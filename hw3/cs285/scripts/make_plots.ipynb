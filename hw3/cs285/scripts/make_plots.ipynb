{
 "cells": [
  {
   "cell_type": "code",
   "execution_count": 1,
   "metadata": {},
   "outputs": [
    {
     "name": "stderr",
     "output_type": "stream",
     "text": [
      "2022-10-03 16:53:51.384917: I tensorflow/core/platform/cpu_feature_guard.cc:193] This TensorFlow binary is optimized with oneAPI Deep Neural Network Library (oneDNN) to use the following CPU instructions in performance-critical operations:  AVX2 AVX512F FMA\n",
      "To enable them in other operations, rebuild TensorFlow with the appropriate compiler flags.\n",
      "2022-10-03 16:53:51.769271: E tensorflow/stream_executor/cuda/cuda_blas.cc:2981] Unable to register cuBLAS factory: Attempting to register factory for plugin cuBLAS when one has already been registered\n",
      "2022-10-03 16:53:53.749061: W tensorflow/stream_executor/platform/default/dso_loader.cc:64] Could not load dynamic library 'libnvinfer.so.7'; dlerror: libnvinfer.so.7: cannot open shared object file: No such file or directory\n",
      "2022-10-03 16:53:53.749232: W tensorflow/stream_executor/platform/default/dso_loader.cc:64] Could not load dynamic library 'libnvinfer_plugin.so.7'; dlerror: libnvinfer_plugin.so.7: cannot open shared object file: No such file or directory\n",
      "2022-10-03 16:53:53.749245: W tensorflow/compiler/tf2tensorrt/utils/py_utils.cc:38] TF-TRT Warning: Cannot dlopen some TensorRT libraries. If you would like to use Nvidia GPU with TensorRT, please make sure the missing libraries mentioned above are installed properly.\n"
     ]
    }
   ],
   "source": [
    "import altair as alt\n",
    "import os\n",
    "import pandas as pd\n",
    "import glob\n",
    "import tensorflow as tf"
   ]
  },
  {
   "cell_type": "code",
   "execution_count": 2,
   "metadata": {},
   "outputs": [],
   "source": [
    "summary_iterator = tf.compat.v1.train.summary_iterator\n",
    "\n",
    "def get_section_results(file, xtag='Train_EnvstepsSoFar', ytag='Eval_AverageReturn'):\n",
    "    \"\"\"\n",
    "        requires tensorflow==1.12.0\n",
    "    \"\"\"\n",
    "    X = []\n",
    "    Y = []\n",
    "    for e in summary_iterator(file):\n",
    "        for v in e.summary.value:\n",
    "            if v.tag == xtag:\n",
    "                X.append(v.simple_value)\n",
    "            elif v.tag == ytag:\n",
    "                Y.append(v.simple_value)\n",
    "    return X, Y\n",
    "logdir = '../../data/q2_pg_q2*/events*'\n",
    "glob.glob(logdir)\n",
    "\n",
    "\n",
    "def make_dataframe(eventfiles, xtag='Train_EnvstepsSoFar', ytag='Eval_AverageReturn'):\n",
    "    dfs = []\n",
    "    for eventfile in eventfiles:\n",
    "        dirname = os.path.basename(os.path.dirname(eventfile))\n",
    "        X, Y = get_section_results(eventfile, xtag, ytag)\n",
    "        n = len(X)\n",
    "        assert len(X) == len(Y), (len(X), len(Y), eventfile, X, Y)\n",
    "        log_df = pd.DataFrame.from_dict({xtag: X, ytag: Y, 'exp': [dirname] * n})\n",
    "        dfs.append(log_df)\n",
    "    \n",
    "    return pd.concat(dfs)"
   ]
  },
  {
   "cell_type": "markdown",
   "metadata": {},
   "source": [
    "# Q1"
   ]
  },
  {
   "cell_type": "code",
   "execution_count": 4,
   "metadata": {},
   "outputs": [],
   "source": [
    "logdir = '../../data/q1_*/events*'\n",
    "# eventfiles = glob.glob(logdir)\n",
    "# xtag = 'Train_EnvstepsSoFar'\n",
    "# ytag = 'Train_AverageReturn'\n",
    "# df_q1  = make_dataframe(eventfiles, xtag=xtag, ytag=ytag)\n",
    "\n",
    "# chart = alt.Chart(df_q1).mark_line().encode(\n",
    "#     x=xtag,\n",
    "#     y=ytag,\n",
    "#     color='exp'\n",
    "# )\n",
    "# chart = chart.configure_legend(\n",
    "#     labelLimit=1000\n",
    "# )\n",
    "# chart"
   ]
  },
  {
   "cell_type": "code",
   "execution_count": 5,
   "metadata": {},
   "outputs": [
    {
     "data": {
      "text/html": [
       "\n",
       "      <iframe id=\"tensorboard-frame-7f3a467989c49be1\" width=\"100%\" height=\"800\" frameborder=\"0\">\n",
       "      </iframe>\n",
       "      <script>\n",
       "        (function() {\n",
       "          const frame = document.getElementById(\"tensorboard-frame-7f3a467989c49be1\");\n",
       "          const url = new URL(\"/\", window.location);\n",
       "          const port = 6007;\n",
       "          if (port) {\n",
       "            url.port = port;\n",
       "          }\n",
       "          frame.src = url;\n",
       "        })();\n",
       "      </script>\n",
       "    "
      ],
      "text/plain": [
       "<IPython.core.display.HTML object>"
      ]
     },
     "metadata": {},
     "output_type": "display_data"
    }
   ],
   "source": [
    "%load_ext tensorboard\n",
    "%tensorboard --logdir {logdir}"
   ]
  },
  {
   "cell_type": "code",
   "execution_count": null,
   "metadata": {},
   "outputs": [],
   "source": []
  }
 ],
 "metadata": {
  "kernelspec": {
   "display_name": "Python 3.7.13 ('cs285')",
   "language": "python",
   "name": "python3"
  },
  "language_info": {
   "codemirror_mode": {
    "name": "ipython",
    "version": 3
   },
   "file_extension": ".py",
   "mimetype": "text/x-python",
   "name": "python",
   "nbconvert_exporter": "python",
   "pygments_lexer": "ipython3",
   "version": "3.7.13"
  },
  "orig_nbformat": 4,
  "vscode": {
   "interpreter": {
    "hash": "6ee42469ea605de752460272922fb796e1b336359728c21243e8de3b00ea10da"
   }
  }
 },
 "nbformat": 4,
 "nbformat_minor": 2
}
