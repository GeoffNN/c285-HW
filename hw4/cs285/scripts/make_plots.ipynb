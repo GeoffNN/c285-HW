{
 "cells": [
  {
   "cell_type": "code",
   "execution_count": 1,
   "metadata": {},
   "outputs": [
    {
     "name": "stderr",
     "output_type": "stream",
     "text": [
      "2022-11-02 22:13:07.132867: I tensorflow/core/platform/cpu_feature_guard.cc:193] This TensorFlow binary is optimized with oneAPI Deep Neural Network Library (oneDNN) to use the following CPU instructions in performance-critical operations:  AVX2 AVX512F FMA\n",
      "To enable them in other operations, rebuild TensorFlow with the appropriate compiler flags.\n",
      "2022-11-02 22:13:07.360134: E tensorflow/stream_executor/cuda/cuda_blas.cc:2981] Unable to register cuBLAS factory: Attempting to register factory for plugin cuBLAS when one has already been registered\n",
      "2022-11-02 22:13:08.962900: W tensorflow/stream_executor/platform/default/dso_loader.cc:64] Could not load dynamic library 'libnvinfer.so.7'; dlerror: libnvinfer.so.7: cannot open shared object file: No such file or directory\n",
      "2022-11-02 22:13:08.963030: W tensorflow/stream_executor/platform/default/dso_loader.cc:64] Could not load dynamic library 'libnvinfer_plugin.so.7'; dlerror: libnvinfer_plugin.so.7: cannot open shared object file: No such file or directory\n",
      "2022-11-02 22:13:08.963040: W tensorflow/compiler/tf2tensorrt/utils/py_utils.cc:38] TF-TRT Warning: Cannot dlopen some TensorRT libraries. If you would like to use Nvidia GPU with TensorRT, please make sure the missing libraries mentioned above are installed properly.\n"
     ]
    }
   ],
   "source": [
    "import altair as alt\n",
    "import os\n",
    "import pandas as pd\n",
    "import glob\n",
    "import tensorflow as tf"
   ]
  },
  {
   "cell_type": "code",
   "execution_count": 2,
   "metadata": {},
   "outputs": [
    {
     "data": {
      "text/plain": [
       "DataTransformerRegistry.enable('default')"
      ]
     },
     "execution_count": 2,
     "metadata": {},
     "output_type": "execute_result"
    }
   ],
   "source": [
    "alt.data_transformers.disable_max_rows()\n"
   ]
  },
  {
   "cell_type": "code",
   "execution_count": 3,
   "metadata": {},
   "outputs": [],
   "source": [
    "summary_iterator = tf.compat.v1.train.summary_iterator\n",
    "\n",
    "def get_section_results(file, xtag='Train_EnvstepsSoFar', ytag='Eval_AverageReturn'):\n",
    "    \"\"\"\n",
    "        requires tensorflow==1.12.0\n",
    "    \"\"\"\n",
    "\n",
    "    X = []\n",
    "    Y = []\n",
    "    for e in summary_iterator(file):\n",
    "        for v in e.summary.value:\n",
    "            if v.tag == xtag:\n",
    "                X.append(v.simple_value)\n",
    "            elif v.tag == ytag:\n",
    "                Y.append(v.simple_value)\n",
    "    return X, Y\n",
    "logdir = '../../data/q2_pg_q2*/events*'\n",
    "glob.glob(logdir)\n",
    "\n",
    "\n",
    "def make_dataframe(eventfiles, xtag='Train_EnvstepsSoFar', ytag='Eval_AverageReturn'):\n",
    "    dfs = []\n",
    "    for eventfile in eventfiles:\n",
    "        dirname = os.path.basename(os.path.dirname(eventfile))\n",
    "        X, Y = get_section_results(eventfile, xtag, ytag)\n",
    "        n = len(X)\n",
    "        msg = f\"{(len(X), len(Y))}\"\n",
    "        length = min(len(X), len(Y))\n",
    "        X = X[:length]\n",
    "        Y = Y[:length]\n",
    "        assert len(X) == len(Y), msg\n",
    "        log_df = pd.DataFrame.from_dict({xtag: X, ytag: Y, 'exp': [dirname] * length})\n",
    "        dfs.append(log_df)\n",
    "    \n",
    "    return pd.concat(dfs)"
   ]
  },
  {
   "cell_type": "markdown",
   "metadata": {},
   "source": [
    "# Q1"
   ]
  },
  {
   "cell_type": "code",
   "execution_count": 4,
   "metadata": {},
   "outputs": [],
   "source": [
    "logdir = '../../data/*q1_*/events*'\n"
   ]
  },
  {
   "cell_type": "code",
   "execution_count": 5,
   "metadata": {},
   "outputs": [
    {
     "name": "stdout",
     "output_type": "stream",
     "text": [
      "WARNING:tensorflow:From /home/eecs/geoffrey_negiar/anaconda3/envs/cs285/lib/python3.7/site-packages/tensorflow/python/summary/summary_iterator.py:27: tf_record_iterator (from tensorflow.python.lib.io.tf_record) is deprecated and will be removed in a future version.\n",
      "Instructions for updating:\n",
      "Use eager execution and: \n",
      "`tf.data.TFRecordDataset(path)`\n"
     ]
    },
    {
     "data": {
      "text/html": [
       "\n",
       "<div id=\"altair-viz-6001d8b540e445d8a5849a7ed9aaae4c\"></div>\n",
       "<script type=\"text/javascript\">\n",
       "  var VEGA_DEBUG = (typeof VEGA_DEBUG == \"undefined\") ? {} : VEGA_DEBUG;\n",
       "  (function(spec, embedOpt){\n",
       "    let outputDiv = document.currentScript.previousElementSibling;\n",
       "    if (outputDiv.id !== \"altair-viz-6001d8b540e445d8a5849a7ed9aaae4c\") {\n",
       "      outputDiv = document.getElementById(\"altair-viz-6001d8b540e445d8a5849a7ed9aaae4c\");\n",
       "    }\n",
       "    const paths = {\n",
       "      \"vega\": \"https://cdn.jsdelivr.net/npm//vega@5?noext\",\n",
       "      \"vega-lib\": \"https://cdn.jsdelivr.net/npm//vega-lib?noext\",\n",
       "      \"vega-lite\": \"https://cdn.jsdelivr.net/npm//vega-lite@4.17.0?noext\",\n",
       "      \"vega-embed\": \"https://cdn.jsdelivr.net/npm//vega-embed@6?noext\",\n",
       "    };\n",
       "\n",
       "    function maybeLoadScript(lib, version) {\n",
       "      var key = `${lib.replace(\"-\", \"\")}_version`;\n",
       "      return (VEGA_DEBUG[key] == version) ?\n",
       "        Promise.resolve(paths[lib]) :\n",
       "        new Promise(function(resolve, reject) {\n",
       "          var s = document.createElement('script');\n",
       "          document.getElementsByTagName(\"head\")[0].appendChild(s);\n",
       "          s.async = true;\n",
       "          s.onload = () => {\n",
       "            VEGA_DEBUG[key] = version;\n",
       "            return resolve(paths[lib]);\n",
       "          };\n",
       "          s.onerror = () => reject(`Error loading script: ${paths[lib]}`);\n",
       "          s.src = paths[lib];\n",
       "        });\n",
       "    }\n",
       "\n",
       "    function showError(err) {\n",
       "      outputDiv.innerHTML = `<div class=\"error\" style=\"color:red;\">${err}</div>`;\n",
       "      throw err;\n",
       "    }\n",
       "\n",
       "    function displayChart(vegaEmbed) {\n",
       "      vegaEmbed(outputDiv, spec, embedOpt)\n",
       "        .catch(err => showError(`Javascript Error: ${err.message}<br>This usually means there's a typo in your chart specification. See the javascript console for the full traceback.`));\n",
       "    }\n",
       "\n",
       "    if(typeof define === \"function\" && define.amd) {\n",
       "      requirejs.config({paths});\n",
       "      require([\"vega-embed\"], displayChart, err => showError(`Error loading script: ${err.message}`));\n",
       "    } else {\n",
       "      maybeLoadScript(\"vega\", \"5\")\n",
       "        .then(() => maybeLoadScript(\"vega-lite\", \"4.17.0\"))\n",
       "        .then(() => maybeLoadScript(\"vega-embed\", \"6\"))\n",
       "        .catch(showError)\n",
       "        .then(() => displayChart(vegaEmbed));\n",
       "    }\n",
       "  })({\"config\": {\"view\": {\"continuousWidth\": 400, \"continuousHeight\": 300}, \"legend\": {\"labelLimit\": 1000}}, \"data\": {\"name\": \"data-d751713988987e9331980363e24189ce\"}, \"mark\": \"line\", \"encoding\": {\"color\": {\"field\": \"exp\", \"type\": \"quantitative\"}, \"x\": {\"field\": \"Train_EnvstepsSoFar\", \"type\": \"quantitative\"}, \"y\": {\"field\": \"Train_AverageReturn\", \"type\": \"quantitative\"}}, \"$schema\": \"https://vega.github.io/schema/vega-lite/v4.17.0.json\", \"datasets\": {\"data-d751713988987e9331980363e24189ce\": []}}, {\"mode\": \"vega-lite\"});\n",
       "</script>"
      ],
      "text/plain": [
       "alt.Chart(...)"
      ]
     },
     "execution_count": 5,
     "metadata": {},
     "output_type": "execute_result"
    }
   ],
   "source": [
    "eventfiles = glob.glob(logdir)\n",
    "xtag = 'Train_EnvstepsSoFar'\n",
    "ytag = 'Train_AverageReturn'\n",
    "df_q1  = make_dataframe(eventfiles, xtag=xtag, ytag=ytag)\n",
    "\n",
    "chart = alt.Chart(df_q1).mark_line().encode(\n",
    "    x=xtag,\n",
    "    y=ytag,\n",
    "    color='exp'\n",
    ")\n",
    "chart = chart.configure_legend(\n",
    "    labelLimit=1000\n",
    ")\n",
    "chart"
   ]
  },
  {
   "cell_type": "markdown",
   "metadata": {},
   "source": [
    "# Q2"
   ]
  },
  {
   "cell_type": "code",
   "execution_count": 6,
   "metadata": {},
   "outputs": [],
   "source": [
    "logdir = '../../data/*q2_*/events*'"
   ]
  },
  {
   "cell_type": "code",
   "execution_count": 7,
   "metadata": {},
   "outputs": [],
   "source": [
    "eventfiles = glob.glob(logdir)\n",
    "xtag = 'Train_EnvstepsSoFar'\n",
    "ytag = 'Train_AverageReturn'\n",
    "df_q2_train  = make_dataframe(eventfiles, xtag=xtag, ytag=ytag)\n",
    "df_q2_eval = make_dataframe(eventfiles, xtag=xtag, ytag='Eval_AverageReturn')"
   ]
  },
  {
   "cell_type": "code",
   "execution_count": 8,
   "metadata": {},
   "outputs": [
    {
     "data": {
      "text/html": [
       "<div>\n",
       "<style scoped>\n",
       "    .dataframe tbody tr th:only-of-type {\n",
       "        vertical-align: middle;\n",
       "    }\n",
       "\n",
       "    .dataframe tbody tr th {\n",
       "        vertical-align: top;\n",
       "    }\n",
       "\n",
       "    .dataframe thead th {\n",
       "        text-align: right;\n",
       "    }\n",
       "</style>\n",
       "<table border=\"1\" class=\"dataframe\">\n",
       "  <thead>\n",
       "    <tr style=\"text-align: right;\">\n",
       "      <th></th>\n",
       "      <th>0</th>\n",
       "      <th>0</th>\n",
       "    </tr>\n",
       "  </thead>\n",
       "  <tbody>\n",
       "    <tr>\n",
       "      <th>Train_EnvstepsSoFar</th>\n",
       "      <td>5050.0</td>\n",
       "      <td>5050.0</td>\n",
       "    </tr>\n",
       "    <tr>\n",
       "      <th>Train_AverageReturn</th>\n",
       "      <td>-163.640549</td>\n",
       "      <td>NaN</td>\n",
       "    </tr>\n",
       "    <tr>\n",
       "      <th>exp</th>\n",
       "      <td>hw4_q2_obstacles_singleiteration_obstacles-cs2...</td>\n",
       "      <td>hw4_q2_obstacles_singleiteration_obstacles-cs2...</td>\n",
       "    </tr>\n",
       "    <tr>\n",
       "      <th>Eval_AverageReturn</th>\n",
       "      <td>NaN</td>\n",
       "      <td>-42.150089</td>\n",
       "    </tr>\n",
       "  </tbody>\n",
       "</table>\n",
       "</div>"
      ],
      "text/plain": [
       "                                                                     0  \\\n",
       "Train_EnvstepsSoFar                                             5050.0   \n",
       "Train_AverageReturn                                        -163.640549   \n",
       "exp                  hw4_q2_obstacles_singleiteration_obstacles-cs2...   \n",
       "Eval_AverageReturn                                                 NaN   \n",
       "\n",
       "                                                                     0  \n",
       "Train_EnvstepsSoFar                                             5050.0  \n",
       "Train_AverageReturn                                                NaN  \n",
       "exp                  hw4_q2_obstacles_singleiteration_obstacles-cs2...  \n",
       "Eval_AverageReturn                                          -42.150089  "
      ]
     },
     "execution_count": 8,
     "metadata": {},
     "output_type": "execute_result"
    }
   ],
   "source": [
    "df_q2 = pd.concat([df_q2_train.iloc[0], df_q2_eval.iloc[0]], axis=1)\n",
    "df_q2.head()"
   ]
  },
  {
   "cell_type": "code",
   "execution_count": 9,
   "metadata": {},
   "outputs": [],
   "source": [
    "df_q2 = pd.DataFrame({'type':['Train_AverageReturn', 'Eval_AverageReturn'],  'value': [-163.640549, -42.150089], 'Train_EnvstepsSoFar': [5050] * 2}, index=[0, 1])"
   ]
  },
  {
   "cell_type": "code",
   "execution_count": 10,
   "metadata": {},
   "outputs": [
    {
     "data": {
      "text/html": [
       "<div>\n",
       "<style scoped>\n",
       "    .dataframe tbody tr th:only-of-type {\n",
       "        vertical-align: middle;\n",
       "    }\n",
       "\n",
       "    .dataframe tbody tr th {\n",
       "        vertical-align: top;\n",
       "    }\n",
       "\n",
       "    .dataframe thead th {\n",
       "        text-align: right;\n",
       "    }\n",
       "</style>\n",
       "<table border=\"1\" class=\"dataframe\">\n",
       "  <thead>\n",
       "    <tr style=\"text-align: right;\">\n",
       "      <th></th>\n",
       "      <th>type</th>\n",
       "      <th>value</th>\n",
       "      <th>Train_EnvstepsSoFar</th>\n",
       "    </tr>\n",
       "  </thead>\n",
       "  <tbody>\n",
       "    <tr>\n",
       "      <th>0</th>\n",
       "      <td>Train_AverageReturn</td>\n",
       "      <td>-163.640549</td>\n",
       "      <td>5050</td>\n",
       "    </tr>\n",
       "    <tr>\n",
       "      <th>1</th>\n",
       "      <td>Eval_AverageReturn</td>\n",
       "      <td>-42.150089</td>\n",
       "      <td>5050</td>\n",
       "    </tr>\n",
       "  </tbody>\n",
       "</table>\n",
       "</div>"
      ],
      "text/plain": [
       "                  type       value  Train_EnvstepsSoFar\n",
       "0  Train_AverageReturn -163.640549                 5050\n",
       "1   Eval_AverageReturn  -42.150089                 5050"
      ]
     },
     "execution_count": 10,
     "metadata": {},
     "output_type": "execute_result"
    }
   ],
   "source": [
    "df_q2"
   ]
  },
  {
   "cell_type": "code",
   "execution_count": 11,
   "metadata": {},
   "outputs": [
    {
     "data": {
      "text/html": [
       "\n",
       "<div id=\"altair-viz-1b9abc31619f495fa358fd250e1a46c9\"></div>\n",
       "<script type=\"text/javascript\">\n",
       "  var VEGA_DEBUG = (typeof VEGA_DEBUG == \"undefined\") ? {} : VEGA_DEBUG;\n",
       "  (function(spec, embedOpt){\n",
       "    let outputDiv = document.currentScript.previousElementSibling;\n",
       "    if (outputDiv.id !== \"altair-viz-1b9abc31619f495fa358fd250e1a46c9\") {\n",
       "      outputDiv = document.getElementById(\"altair-viz-1b9abc31619f495fa358fd250e1a46c9\");\n",
       "    }\n",
       "    const paths = {\n",
       "      \"vega\": \"https://cdn.jsdelivr.net/npm//vega@5?noext\",\n",
       "      \"vega-lib\": \"https://cdn.jsdelivr.net/npm//vega-lib?noext\",\n",
       "      \"vega-lite\": \"https://cdn.jsdelivr.net/npm//vega-lite@4.17.0?noext\",\n",
       "      \"vega-embed\": \"https://cdn.jsdelivr.net/npm//vega-embed@6?noext\",\n",
       "    };\n",
       "\n",
       "    function maybeLoadScript(lib, version) {\n",
       "      var key = `${lib.replace(\"-\", \"\")}_version`;\n",
       "      return (VEGA_DEBUG[key] == version) ?\n",
       "        Promise.resolve(paths[lib]) :\n",
       "        new Promise(function(resolve, reject) {\n",
       "          var s = document.createElement('script');\n",
       "          document.getElementsByTagName(\"head\")[0].appendChild(s);\n",
       "          s.async = true;\n",
       "          s.onload = () => {\n",
       "            VEGA_DEBUG[key] = version;\n",
       "            return resolve(paths[lib]);\n",
       "          };\n",
       "          s.onerror = () => reject(`Error loading script: ${paths[lib]}`);\n",
       "          s.src = paths[lib];\n",
       "        });\n",
       "    }\n",
       "\n",
       "    function showError(err) {\n",
       "      outputDiv.innerHTML = `<div class=\"error\" style=\"color:red;\">${err}</div>`;\n",
       "      throw err;\n",
       "    }\n",
       "\n",
       "    function displayChart(vegaEmbed) {\n",
       "      vegaEmbed(outputDiv, spec, embedOpt)\n",
       "        .catch(err => showError(`Javascript Error: ${err.message}<br>This usually means there's a typo in your chart specification. See the javascript console for the full traceback.`));\n",
       "    }\n",
       "\n",
       "    if(typeof define === \"function\" && define.amd) {\n",
       "      requirejs.config({paths});\n",
       "      require([\"vega-embed\"], displayChart, err => showError(`Error loading script: ${err.message}`));\n",
       "    } else {\n",
       "      maybeLoadScript(\"vega\", \"5\")\n",
       "        .then(() => maybeLoadScript(\"vega-lite\", \"4.17.0\"))\n",
       "        .then(() => maybeLoadScript(\"vega-embed\", \"6\"))\n",
       "        .catch(showError)\n",
       "        .then(() => displayChart(vegaEmbed));\n",
       "    }\n",
       "  })({\"config\": {\"view\": {\"continuousWidth\": 400, \"continuousHeight\": 300}}, \"data\": {\"name\": \"data-d17d6a86cde1d4631996809091c18cd0\"}, \"mark\": \"point\", \"encoding\": {\"color\": {\"field\": \"type\", \"type\": \"nominal\"}, \"x\": {\"field\": \"Train_EnvstepsSoFar\", \"type\": \"quantitative\"}, \"y\": {\"field\": \"value\", \"type\": \"quantitative\"}}, \"$schema\": \"https://vega.github.io/schema/vega-lite/v4.17.0.json\", \"datasets\": {\"data-d17d6a86cde1d4631996809091c18cd0\": [{\"type\": \"Train_AverageReturn\", \"value\": -163.640549, \"Train_EnvstepsSoFar\": 5050}, {\"type\": \"Eval_AverageReturn\", \"value\": -42.150089, \"Train_EnvstepsSoFar\": 5050}]}}, {\"mode\": \"vega-lite\"});\n",
       "</script>"
      ],
      "text/plain": [
       "alt.Chart(...)"
      ]
     },
     "execution_count": 11,
     "metadata": {},
     "output_type": "execute_result"
    }
   ],
   "source": [
    "chart = alt.Chart(df_q2).mark_point().encode(\n",
    "    x=xtag,\n",
    "    y='value:Q',\n",
    "    color='type:N'\n",
    ")\n",
    "chart"
   ]
  },
  {
   "cell_type": "markdown",
   "metadata": {},
   "source": [
    "# Q3"
   ]
  },
  {
   "cell_type": "code",
   "execution_count": 13,
   "metadata": {},
   "outputs": [
    {
     "data": {
      "text/html": [
       "\n",
       "<div id=\"altair-viz-2f34ee7aeb6e445a81840aec2e6f63bb\"></div>\n",
       "<script type=\"text/javascript\">\n",
       "  var VEGA_DEBUG = (typeof VEGA_DEBUG == \"undefined\") ? {} : VEGA_DEBUG;\n",
       "  (function(spec, embedOpt){\n",
       "    let outputDiv = document.currentScript.previousElementSibling;\n",
       "    if (outputDiv.id !== \"altair-viz-2f34ee7aeb6e445a81840aec2e6f63bb\") {\n",
       "      outputDiv = document.getElementById(\"altair-viz-2f34ee7aeb6e445a81840aec2e6f63bb\");\n",
       "    }\n",
       "    const paths = {\n",
       "      \"vega\": \"https://cdn.jsdelivr.net/npm//vega@5?noext\",\n",
       "      \"vega-lib\": \"https://cdn.jsdelivr.net/npm//vega-lib?noext\",\n",
       "      \"vega-lite\": \"https://cdn.jsdelivr.net/npm//vega-lite@4.17.0?noext\",\n",
       "      \"vega-embed\": \"https://cdn.jsdelivr.net/npm//vega-embed@6?noext\",\n",
       "    };\n",
       "\n",
       "    function maybeLoadScript(lib, version) {\n",
       "      var key = `${lib.replace(\"-\", \"\")}_version`;\n",
       "      return (VEGA_DEBUG[key] == version) ?\n",
       "        Promise.resolve(paths[lib]) :\n",
       "        new Promise(function(resolve, reject) {\n",
       "          var s = document.createElement('script');\n",
       "          document.getElementsByTagName(\"head\")[0].appendChild(s);\n",
       "          s.async = true;\n",
       "          s.onload = () => {\n",
       "            VEGA_DEBUG[key] = version;\n",
       "            return resolve(paths[lib]);\n",
       "          };\n",
       "          s.onerror = () => reject(`Error loading script: ${paths[lib]}`);\n",
       "          s.src = paths[lib];\n",
       "        });\n",
       "    }\n",
       "\n",
       "    function showError(err) {\n",
       "      outputDiv.innerHTML = `<div class=\"error\" style=\"color:red;\">${err}</div>`;\n",
       "      throw err;\n",
       "    }\n",
       "\n",
       "    function displayChart(vegaEmbed) {\n",
       "      vegaEmbed(outputDiv, spec, embedOpt)\n",
       "        .catch(err => showError(`Javascript Error: ${err.message}<br>This usually means there's a typo in your chart specification. See the javascript console for the full traceback.`));\n",
       "    }\n",
       "\n",
       "    if(typeof define === \"function\" && define.amd) {\n",
       "      requirejs.config({paths});\n",
       "      require([\"vega-embed\"], displayChart, err => showError(`Error loading script: ${err.message}`));\n",
       "    } else {\n",
       "      maybeLoadScript(\"vega\", \"5\")\n",
       "        .then(() => maybeLoadScript(\"vega-lite\", \"4.17.0\"))\n",
       "        .then(() => maybeLoadScript(\"vega-embed\", \"6\"))\n",
       "        .catch(showError)\n",
       "        .then(() => displayChart(vegaEmbed));\n",
       "    }\n",
       "  })({\"config\": {\"view\": {\"continuousWidth\": 400, \"continuousHeight\": 300}, \"legend\": {\"labelLimit\": 1000}}, \"data\": {\"name\": \"data-1db0f04c3b724059fd5a8503a9d4dfbb\"}, \"mark\": \"line\", \"encoding\": {\"color\": {\"field\": \"exp\", \"type\": \"nominal\"}, \"x\": {\"field\": \"Train_EnvstepsSoFar\", \"type\": \"quantitative\"}, \"y\": {\"field\": \"Eval_AverageReturn\", \"type\": \"quantitative\"}}, \"$schema\": \"https://vega.github.io/schema/vega-lite/v4.17.0.json\", \"datasets\": {\"data-1db0f04c3b724059fd5a8503a9d4dfbb\": [{\"Train_EnvstepsSoFar\": 5050.0, \"Eval_AverageReturn\": -33.12852096557617, \"exp\": \"hw4_q3_obstacles_obstacles-cs285-v0_31-10-2022_22-23-03\"}, {\"Train_EnvstepsSoFar\": 6073.0, \"Eval_AverageReturn\": -29.642017364501953, \"exp\": \"hw4_q3_obstacles_obstacles-cs285-v0_31-10-2022_22-23-03\"}, {\"Train_EnvstepsSoFar\": 7098.0, \"Eval_AverageReturn\": -28.565366744995117, \"exp\": \"hw4_q3_obstacles_obstacles-cs285-v0_31-10-2022_22-23-03\"}, {\"Train_EnvstepsSoFar\": 8125.0, \"Eval_AverageReturn\": -24.11963653564453, \"exp\": \"hw4_q3_obstacles_obstacles-cs285-v0_31-10-2022_22-23-03\"}, {\"Train_EnvstepsSoFar\": 9139.0, \"Eval_AverageReturn\": -37.90023422241211, \"exp\": \"hw4_q3_obstacles_obstacles-cs285-v0_31-10-2022_22-23-03\"}, {\"Train_EnvstepsSoFar\": 10145.0, \"Eval_AverageReturn\": -22.933128356933594, \"exp\": \"hw4_q3_obstacles_obstacles-cs285-v0_31-10-2022_22-23-03\"}, {\"Train_EnvstepsSoFar\": 11167.0, \"Eval_AverageReturn\": -27.474477767944336, \"exp\": \"hw4_q3_obstacles_obstacles-cs285-v0_31-10-2022_22-23-03\"}, {\"Train_EnvstepsSoFar\": 12178.0, \"Eval_AverageReturn\": -26.313392639160156, \"exp\": \"hw4_q3_obstacles_obstacles-cs285-v0_31-10-2022_22-23-03\"}, {\"Train_EnvstepsSoFar\": 13195.0, \"Eval_AverageReturn\": -27.272972106933594, \"exp\": \"hw4_q3_obstacles_obstacles-cs285-v0_31-10-2022_22-23-03\"}, {\"Train_EnvstepsSoFar\": 14195.0, \"Eval_AverageReturn\": -41.27516555786133, \"exp\": \"hw4_q3_obstacles_obstacles-cs285-v0_31-10-2022_22-23-03\"}, {\"Train_EnvstepsSoFar\": 15196.0, \"Eval_AverageReturn\": -33.397464752197266, \"exp\": \"hw4_q3_obstacles_obstacles-cs285-v0_31-10-2022_22-23-03\"}, {\"Train_EnvstepsSoFar\": 16219.0, \"Eval_AverageReturn\": -27.302894592285156, \"exp\": \"hw4_q3_obstacles_obstacles-cs285-v0_31-10-2022_22-23-03\"}]}}, {\"mode\": \"vega-lite\"});\n",
       "</script>"
      ],
      "text/plain": [
       "alt.Chart(...)"
      ]
     },
     "execution_count": 13,
     "metadata": {},
     "output_type": "execute_result"
    }
   ],
   "source": [
    "logdir = '../../data/*q3_obstacles*/events*'\n",
    "eventfiles = glob.glob(logdir)\n",
    "xtag = 'Train_EnvstepsSoFar'\n",
    "ytag = 'Eval_AverageReturn'\n",
    "df_q3 = make_dataframe(eventfiles, xtag=xtag, ytag=ytag)\n",
    "\n",
    "chart = alt.Chart(df_q3).mark_line().encode(\n",
    "    x=xtag,\n",
    "    y=ytag,\n",
    "    color='exp'\n",
    ")\n",
    "chart = chart.configure_legend(\n",
    "    labelLimit=1000\n",
    ")\n",
    "chart"
   ]
  },
  {
   "cell_type": "code",
   "execution_count": 20,
   "metadata": {},
   "outputs": [
    {
     "data": {
      "text/html": [
       "\n",
       "<div id=\"altair-viz-e5f49fe11b78429dae867af025369947\"></div>\n",
       "<script type=\"text/javascript\">\n",
       "  var VEGA_DEBUG = (typeof VEGA_DEBUG == \"undefined\") ? {} : VEGA_DEBUG;\n",
       "  (function(spec, embedOpt){\n",
       "    let outputDiv = document.currentScript.previousElementSibling;\n",
       "    if (outputDiv.id !== \"altair-viz-e5f49fe11b78429dae867af025369947\") {\n",
       "      outputDiv = document.getElementById(\"altair-viz-e5f49fe11b78429dae867af025369947\");\n",
       "    }\n",
       "    const paths = {\n",
       "      \"vega\": \"https://cdn.jsdelivr.net/npm//vega@5?noext\",\n",
       "      \"vega-lib\": \"https://cdn.jsdelivr.net/npm//vega-lib?noext\",\n",
       "      \"vega-lite\": \"https://cdn.jsdelivr.net/npm//vega-lite@4.17.0?noext\",\n",
       "      \"vega-embed\": \"https://cdn.jsdelivr.net/npm//vega-embed@6?noext\",\n",
       "    };\n",
       "\n",
       "    function maybeLoadScript(lib, version) {\n",
       "      var key = `${lib.replace(\"-\", \"\")}_version`;\n",
       "      return (VEGA_DEBUG[key] == version) ?\n",
       "        Promise.resolve(paths[lib]) :\n",
       "        new Promise(function(resolve, reject) {\n",
       "          var s = document.createElement('script');\n",
       "          document.getElementsByTagName(\"head\")[0].appendChild(s);\n",
       "          s.async = true;\n",
       "          s.onload = () => {\n",
       "            VEGA_DEBUG[key] = version;\n",
       "            return resolve(paths[lib]);\n",
       "          };\n",
       "          s.onerror = () => reject(`Error loading script: ${paths[lib]}`);\n",
       "          s.src = paths[lib];\n",
       "        });\n",
       "    }\n",
       "\n",
       "    function showError(err) {\n",
       "      outputDiv.innerHTML = `<div class=\"error\" style=\"color:red;\">${err}</div>`;\n",
       "      throw err;\n",
       "    }\n",
       "\n",
       "    function displayChart(vegaEmbed) {\n",
       "      vegaEmbed(outputDiv, spec, embedOpt)\n",
       "        .catch(err => showError(`Javascript Error: ${err.message}<br>This usually means there's a typo in your chart specification. See the javascript console for the full traceback.`));\n",
       "    }\n",
       "\n",
       "    if(typeof define === \"function\" && define.amd) {\n",
       "      requirejs.config({paths});\n",
       "      require([\"vega-embed\"], displayChart, err => showError(`Error loading script: ${err.message}`));\n",
       "    } else {\n",
       "      maybeLoadScript(\"vega\", \"5\")\n",
       "        .then(() => maybeLoadScript(\"vega-lite\", \"4.17.0\"))\n",
       "        .then(() => maybeLoadScript(\"vega-embed\", \"6\"))\n",
       "        .catch(showError)\n",
       "        .then(() => displayChart(vegaEmbed));\n",
       "    }\n",
       "  })({\"config\": {\"view\": {\"continuousWidth\": 400, \"continuousHeight\": 300}, \"legend\": {\"labelLimit\": 1000}}, \"data\": {\"name\": \"data-39965ab1d3e711d56686faa5c9ff3035\"}, \"mark\": \"line\", \"encoding\": {\"color\": {\"field\": \"exp\", \"type\": \"nominal\"}, \"x\": {\"field\": \"Train_EnvstepsSoFar\", \"type\": \"quantitative\"}, \"y\": {\"field\": \"Eval_AverageReturn\", \"type\": \"quantitative\"}}, \"$schema\": \"https://vega.github.io/schema/vega-lite/v4.17.0.json\", \"datasets\": {\"data-39965ab1d3e711d56686faa5c9ff3035\": [{\"Train_EnvstepsSoFar\": 5025.0, \"Eval_AverageReturn\": -672.6468505859375, \"exp\": \"hw4_q3_reacher_reacher-cs285-v0_31-10-2022_22-32-21\"}, {\"Train_EnvstepsSoFar\": 10050.0, \"Eval_AverageReturn\": -359.29620361328125, \"exp\": \"hw4_q3_reacher_reacher-cs285-v0_31-10-2022_22-32-21\"}, {\"Train_EnvstepsSoFar\": 15075.0, \"Eval_AverageReturn\": -339.8778076171875, \"exp\": \"hw4_q3_reacher_reacher-cs285-v0_31-10-2022_22-32-21\"}, {\"Train_EnvstepsSoFar\": 20100.0, \"Eval_AverageReturn\": -266.99566650390625, \"exp\": \"hw4_q3_reacher_reacher-cs285-v0_31-10-2022_22-32-21\"}, {\"Train_EnvstepsSoFar\": 25125.0, \"Eval_AverageReturn\": -272.86474609375, \"exp\": \"hw4_q3_reacher_reacher-cs285-v0_31-10-2022_22-32-21\"}, {\"Train_EnvstepsSoFar\": 30150.0, \"Eval_AverageReturn\": -267.9696044921875, \"exp\": \"hw4_q3_reacher_reacher-cs285-v0_31-10-2022_22-32-21\"}, {\"Train_EnvstepsSoFar\": 35175.0, \"Eval_AverageReturn\": -235.85198974609375, \"exp\": \"hw4_q3_reacher_reacher-cs285-v0_31-10-2022_22-32-21\"}, {\"Train_EnvstepsSoFar\": 40200.0, \"Eval_AverageReturn\": -259.5152587890625, \"exp\": \"hw4_q3_reacher_reacher-cs285-v0_31-10-2022_22-32-21\"}, {\"Train_EnvstepsSoFar\": 45225.0, \"Eval_AverageReturn\": -271.8765563964844, \"exp\": \"hw4_q3_reacher_reacher-cs285-v0_31-10-2022_22-32-21\"}, {\"Train_EnvstepsSoFar\": 50250.0, \"Eval_AverageReturn\": -279.36114501953125, \"exp\": \"hw4_q3_reacher_reacher-cs285-v0_31-10-2022_22-32-21\"}, {\"Train_EnvstepsSoFar\": 55275.0, \"Eval_AverageReturn\": -277.2894287109375, \"exp\": \"hw4_q3_reacher_reacher-cs285-v0_31-10-2022_22-32-21\"}, {\"Train_EnvstepsSoFar\": 60300.0, \"Eval_AverageReturn\": -246.33084106445312, \"exp\": \"hw4_q3_reacher_reacher-cs285-v0_31-10-2022_22-32-21\"}, {\"Train_EnvstepsSoFar\": 65325.0, \"Eval_AverageReturn\": -267.58856201171875, \"exp\": \"hw4_q3_reacher_reacher-cs285-v0_31-10-2022_22-32-21\"}, {\"Train_EnvstepsSoFar\": 70350.0, \"Eval_AverageReturn\": -262.3210144042969, \"exp\": \"hw4_q3_reacher_reacher-cs285-v0_31-10-2022_22-32-21\"}, {\"Train_EnvstepsSoFar\": 75375.0, \"Eval_AverageReturn\": -277.0750732421875, \"exp\": \"hw4_q3_reacher_reacher-cs285-v0_31-10-2022_22-32-21\"}]}}, {\"mode\": \"vega-lite\"});\n",
       "</script>"
      ],
      "text/plain": [
       "alt.Chart(...)"
      ]
     },
     "execution_count": 20,
     "metadata": {},
     "output_type": "execute_result"
    }
   ],
   "source": [
    "logdir = '../../data/*q3_reacher*/events*'\n",
    "eventfiles = glob.glob(logdir)\n",
    "xtag = 'Train_EnvstepsSoFar'\n",
    "ytag = 'Eval_AverageReturn'\n",
    "df_q3_reacher = make_dataframe(eventfiles, xtag=xtag, ytag=ytag)\n",
    "\n",
    "chart = alt.Chart(df_q3_reacher).mark_line().encode(\n",
    "    x=xtag,\n",
    "    y=ytag,\n",
    "    color='exp'\n",
    ")\n",
    "chart = chart.configure_legend(\n",
    "    labelLimit=1000\n",
    ")\n",
    "chart"
   ]
  },
  {
   "cell_type": "code",
   "execution_count": 23,
   "metadata": {},
   "outputs": [
    {
     "data": {
      "text/html": [
       "\n",
       "<div id=\"altair-viz-4d9c220f84ea4fdb888031deaf0bcff4\"></div>\n",
       "<script type=\"text/javascript\">\n",
       "  var VEGA_DEBUG = (typeof VEGA_DEBUG == \"undefined\") ? {} : VEGA_DEBUG;\n",
       "  (function(spec, embedOpt){\n",
       "    let outputDiv = document.currentScript.previousElementSibling;\n",
       "    if (outputDiv.id !== \"altair-viz-4d9c220f84ea4fdb888031deaf0bcff4\") {\n",
       "      outputDiv = document.getElementById(\"altair-viz-4d9c220f84ea4fdb888031deaf0bcff4\");\n",
       "    }\n",
       "    const paths = {\n",
       "      \"vega\": \"https://cdn.jsdelivr.net/npm//vega@5?noext\",\n",
       "      \"vega-lib\": \"https://cdn.jsdelivr.net/npm//vega-lib?noext\",\n",
       "      \"vega-lite\": \"https://cdn.jsdelivr.net/npm//vega-lite@4.17.0?noext\",\n",
       "      \"vega-embed\": \"https://cdn.jsdelivr.net/npm//vega-embed@6?noext\",\n",
       "    };\n",
       "\n",
       "    function maybeLoadScript(lib, version) {\n",
       "      var key = `${lib.replace(\"-\", \"\")}_version`;\n",
       "      return (VEGA_DEBUG[key] == version) ?\n",
       "        Promise.resolve(paths[lib]) :\n",
       "        new Promise(function(resolve, reject) {\n",
       "          var s = document.createElement('script');\n",
       "          document.getElementsByTagName(\"head\")[0].appendChild(s);\n",
       "          s.async = true;\n",
       "          s.onload = () => {\n",
       "            VEGA_DEBUG[key] = version;\n",
       "            return resolve(paths[lib]);\n",
       "          };\n",
       "          s.onerror = () => reject(`Error loading script: ${paths[lib]}`);\n",
       "          s.src = paths[lib];\n",
       "        });\n",
       "    }\n",
       "\n",
       "    function showError(err) {\n",
       "      outputDiv.innerHTML = `<div class=\"error\" style=\"color:red;\">${err}</div>`;\n",
       "      throw err;\n",
       "    }\n",
       "\n",
       "    function displayChart(vegaEmbed) {\n",
       "      vegaEmbed(outputDiv, spec, embedOpt)\n",
       "        .catch(err => showError(`Javascript Error: ${err.message}<br>This usually means there's a typo in your chart specification. See the javascript console for the full traceback.`));\n",
       "    }\n",
       "\n",
       "    if(typeof define === \"function\" && define.amd) {\n",
       "      requirejs.config({paths});\n",
       "      require([\"vega-embed\"], displayChart, err => showError(`Error loading script: ${err.message}`));\n",
       "    } else {\n",
       "      maybeLoadScript(\"vega\", \"5\")\n",
       "        .then(() => maybeLoadScript(\"vega-lite\", \"4.17.0\"))\n",
       "        .then(() => maybeLoadScript(\"vega-embed\", \"6\"))\n",
       "        .catch(showError)\n",
       "        .then(() => displayChart(vegaEmbed));\n",
       "    }\n",
       "  })({\"config\": {\"view\": {\"continuousWidth\": 400, \"continuousHeight\": 300}, \"legend\": {\"labelLimit\": 1000}}, \"data\": {\"name\": \"data-f70009ae193a8f413d69394c5b97b480\"}, \"mark\": \"line\", \"encoding\": {\"color\": {\"field\": \"exp\", \"type\": \"nominal\"}, \"x\": {\"field\": \"Train_EnvstepsSoFar\", \"type\": \"quantitative\"}, \"y\": {\"field\": \"Eval_AverageReturn\", \"type\": \"quantitative\"}}, \"$schema\": \"https://vega.github.io/schema/vega-lite/v4.17.0.json\", \"datasets\": {\"data-f70009ae193a8f413d69394c5b97b480\": [{\"Train_EnvstepsSoFar\": 5010.0, \"Eval_AverageReturn\": 100.56256866455078, \"exp\": \"hw4_q3_cheetah_cheetah-cs285-v0_31-10-2022_23-23-59\"}, {\"Train_EnvstepsSoFar\": 10020.0, \"Eval_AverageReturn\": 230.87435913085938, \"exp\": \"hw4_q3_cheetah_cheetah-cs285-v0_31-10-2022_23-23-59\"}, {\"Train_EnvstepsSoFar\": 15030.0, \"Eval_AverageReturn\": 264.07147216796875, \"exp\": \"hw4_q3_cheetah_cheetah-cs285-v0_31-10-2022_23-23-59\"}, {\"Train_EnvstepsSoFar\": 20040.0, \"Eval_AverageReturn\": 285.7351379394531, \"exp\": \"hw4_q3_cheetah_cheetah-cs285-v0_31-10-2022_23-23-59\"}, {\"Train_EnvstepsSoFar\": 25050.0, \"Eval_AverageReturn\": 269.27777099609375, \"exp\": \"hw4_q3_cheetah_cheetah-cs285-v0_31-10-2022_23-23-59\"}, {\"Train_EnvstepsSoFar\": 30060.0, \"Eval_AverageReturn\": 305.9385070800781, \"exp\": \"hw4_q3_cheetah_cheetah-cs285-v0_31-10-2022_23-23-59\"}, {\"Train_EnvstepsSoFar\": 35070.0, \"Eval_AverageReturn\": 285.6482238769531, \"exp\": \"hw4_q3_cheetah_cheetah-cs285-v0_31-10-2022_23-23-59\"}, {\"Train_EnvstepsSoFar\": 40080.0, \"Eval_AverageReturn\": 294.1015319824219, \"exp\": \"hw4_q3_cheetah_cheetah-cs285-v0_31-10-2022_23-23-59\"}, {\"Train_EnvstepsSoFar\": 45090.0, \"Eval_AverageReturn\": 299.592041015625, \"exp\": \"hw4_q3_cheetah_cheetah-cs285-v0_31-10-2022_23-23-59\"}, {\"Train_EnvstepsSoFar\": 50100.0, \"Eval_AverageReturn\": 323.7689208984375, \"exp\": \"hw4_q3_cheetah_cheetah-cs285-v0_31-10-2022_23-23-59\"}, {\"Train_EnvstepsSoFar\": 55110.0, \"Eval_AverageReturn\": 265.9423522949219, \"exp\": \"hw4_q3_cheetah_cheetah-cs285-v0_31-10-2022_23-23-59\"}, {\"Train_EnvstepsSoFar\": 60120.0, \"Eval_AverageReturn\": 349.4515686035156, \"exp\": \"hw4_q3_cheetah_cheetah-cs285-v0_31-10-2022_23-23-59\"}, {\"Train_EnvstepsSoFar\": 65130.0, \"Eval_AverageReturn\": 330.9849548339844, \"exp\": \"hw4_q3_cheetah_cheetah-cs285-v0_31-10-2022_23-23-59\"}, {\"Train_EnvstepsSoFar\": 70140.0, \"Eval_AverageReturn\": 315.18408203125, \"exp\": \"hw4_q3_cheetah_cheetah-cs285-v0_31-10-2022_23-23-59\"}, {\"Train_EnvstepsSoFar\": 75150.0, \"Eval_AverageReturn\": 348.16192626953125, \"exp\": \"hw4_q3_cheetah_cheetah-cs285-v0_31-10-2022_23-23-59\"}, {\"Train_EnvstepsSoFar\": 80160.0, \"Eval_AverageReturn\": 287.6435241699219, \"exp\": \"hw4_q3_cheetah_cheetah-cs285-v0_31-10-2022_23-23-59\"}, {\"Train_EnvstepsSoFar\": 85170.0, \"Eval_AverageReturn\": 322.69073486328125, \"exp\": \"hw4_q3_cheetah_cheetah-cs285-v0_31-10-2022_23-23-59\"}, {\"Train_EnvstepsSoFar\": 90180.0, \"Eval_AverageReturn\": 316.1244812011719, \"exp\": \"hw4_q3_cheetah_cheetah-cs285-v0_31-10-2022_23-23-59\"}, {\"Train_EnvstepsSoFar\": 95190.0, \"Eval_AverageReturn\": 282.41912841796875, \"exp\": \"hw4_q3_cheetah_cheetah-cs285-v0_31-10-2022_23-23-59\"}, {\"Train_EnvstepsSoFar\": 100200.0, \"Eval_AverageReturn\": 295.2294006347656, \"exp\": \"hw4_q3_cheetah_cheetah-cs285-v0_31-10-2022_23-23-59\"}]}}, {\"mode\": \"vega-lite\"});\n",
       "</script>"
      ],
      "text/plain": [
       "alt.Chart(...)"
      ]
     },
     "execution_count": 23,
     "metadata": {},
     "output_type": "execute_result"
    }
   ],
   "source": [
    "logdir = '../../data/*q3_cheetah*/events*'\n",
    "eventfiles = glob.glob(logdir)\n",
    "xtag = 'Train_EnvstepsSoFar'\n",
    "ytag = 'Eval_AverageReturn'\n",
    "df_q3_cheetah = make_dataframe(eventfiles, xtag=xtag, ytag=ytag)\n",
    "\n",
    "chart = alt.Chart(df_q3_cheetah).mark_line().encode(\n",
    "    x=xtag,\n",
    "    y=ytag,\n",
    "    color='exp'\n",
    ")\n",
    "chart = chart.configure_legend(\n",
    "    labelLimit=1000\n",
    ")\n",
    "chart"
   ]
  },
  {
   "cell_type": "markdown",
   "metadata": {},
   "source": [
    "# Q4"
   ]
  },
  {
   "cell_type": "code",
   "execution_count": 24,
   "metadata": {},
   "outputs": [],
   "source": [
    "logdir = '../../data/*q4_*/events*'\n",
    "eventfiles = glob.glob(logdir)\n",
    "xtag = 'Train_EnvstepsSoFar'\n",
    "ytag = 'Train_AverageReturn'\n",
    "df_q4  = make_dataframe(eventfiles, xtag=xtag, ytag=ytag)"
   ]
  },
  {
   "cell_type": "code",
   "execution_count": 29,
   "metadata": {},
   "outputs": [],
   "source": [
    "df_q4['date'] = pd.to_datetime(df_q4['exp'], exact=False, format='%d-%m-%Y_%H-%M-%S')"
   ]
  },
  {
   "cell_type": "code",
   "execution_count": 30,
   "metadata": {},
   "outputs": [],
   "source": [
    "df_q4 = df_q4[df_q4['date'] > pd.to_datetime('31-10-2022_22-20-00', format='%d-%m-%Y_%H-%M-%S')]"
   ]
  },
  {
   "cell_type": "code",
   "execution_count": 31,
   "metadata": {},
   "outputs": [
    {
     "data": {
      "text/html": [
       "\n",
       "<div id=\"altair-viz-446f6b90adf0416c936c90f17d07d55e\"></div>\n",
       "<script type=\"text/javascript\">\n",
       "  var VEGA_DEBUG = (typeof VEGA_DEBUG == \"undefined\") ? {} : VEGA_DEBUG;\n",
       "  (function(spec, embedOpt){\n",
       "    let outputDiv = document.currentScript.previousElementSibling;\n",
       "    if (outputDiv.id !== \"altair-viz-446f6b90adf0416c936c90f17d07d55e\") {\n",
       "      outputDiv = document.getElementById(\"altair-viz-446f6b90adf0416c936c90f17d07d55e\");\n",
       "    }\n",
       "    const paths = {\n",
       "      \"vega\": \"https://cdn.jsdelivr.net/npm//vega@5?noext\",\n",
       "      \"vega-lib\": \"https://cdn.jsdelivr.net/npm//vega-lib?noext\",\n",
       "      \"vega-lite\": \"https://cdn.jsdelivr.net/npm//vega-lite@4.17.0?noext\",\n",
       "      \"vega-embed\": \"https://cdn.jsdelivr.net/npm//vega-embed@6?noext\",\n",
       "    };\n",
       "\n",
       "    function maybeLoadScript(lib, version) {\n",
       "      var key = `${lib.replace(\"-\", \"\")}_version`;\n",
       "      return (VEGA_DEBUG[key] == version) ?\n",
       "        Promise.resolve(paths[lib]) :\n",
       "        new Promise(function(resolve, reject) {\n",
       "          var s = document.createElement('script');\n",
       "          document.getElementsByTagName(\"head\")[0].appendChild(s);\n",
       "          s.async = true;\n",
       "          s.onload = () => {\n",
       "            VEGA_DEBUG[key] = version;\n",
       "            return resolve(paths[lib]);\n",
       "          };\n",
       "          s.onerror = () => reject(`Error loading script: ${paths[lib]}`);\n",
       "          s.src = paths[lib];\n",
       "        });\n",
       "    }\n",
       "\n",
       "    function showError(err) {\n",
       "      outputDiv.innerHTML = `<div class=\"error\" style=\"color:red;\">${err}</div>`;\n",
       "      throw err;\n",
       "    }\n",
       "\n",
       "    function displayChart(vegaEmbed) {\n",
       "      vegaEmbed(outputDiv, spec, embedOpt)\n",
       "        .catch(err => showError(`Javascript Error: ${err.message}<br>This usually means there's a typo in your chart specification. See the javascript console for the full traceback.`));\n",
       "    }\n",
       "\n",
       "    if(typeof define === \"function\" && define.amd) {\n",
       "      requirejs.config({paths});\n",
       "      require([\"vega-embed\"], displayChart, err => showError(`Error loading script: ${err.message}`));\n",
       "    } else {\n",
       "      maybeLoadScript(\"vega\", \"5\")\n",
       "        .then(() => maybeLoadScript(\"vega-lite\", \"4.17.0\"))\n",
       "        .then(() => maybeLoadScript(\"vega-embed\", \"6\"))\n",
       "        .catch(showError)\n",
       "        .then(() => displayChart(vegaEmbed));\n",
       "    }\n",
       "  })({\"config\": {\"view\": {\"continuousWidth\": 400, \"continuousHeight\": 300}, \"legend\": {\"labelLimit\": 1000}}, \"data\": {\"name\": \"data-ebd9e4ea9927bcddcff021d9a1f1526b\"}, \"mark\": \"line\", \"encoding\": {\"color\": {\"field\": \"exp\", \"type\": \"nominal\"}, \"x\": {\"field\": \"Train_EnvstepsSoFar\", \"type\": \"quantitative\"}, \"y\": {\"field\": \"Train_AverageReturn\", \"type\": \"quantitative\"}}, \"$schema\": \"https://vega.github.io/schema/vega-lite/v4.17.0.json\", \"datasets\": {\"data-ebd9e4ea9927bcddcff021d9a1f1526b\": [{\"Train_EnvstepsSoFar\": 20100.0, \"Train_AverageReturn\": -1887.0548095703125, \"exp\": \"hw4_q4_reacher_horizon5_reacher-cs285-v0_31-10-2022_22-23-36\", \"date\": \"2022-10-31T22:23:36\"}, {\"Train_EnvstepsSoFar\": 20904.0, \"Train_AverageReturn\": -869.5433959960938, \"exp\": \"hw4_q4_reacher_horizon5_reacher-cs285-v0_31-10-2022_22-23-36\", \"date\": \"2022-10-31T22:23:36\"}, {\"Train_EnvstepsSoFar\": 21708.0, \"Train_AverageReturn\": -325.56500244140625, \"exp\": \"hw4_q4_reacher_horizon5_reacher-cs285-v0_31-10-2022_22-23-36\", \"date\": \"2022-10-31T22:23:36\"}, {\"Train_EnvstepsSoFar\": 22512.0, \"Train_AverageReturn\": -266.5724792480469, \"exp\": \"hw4_q4_reacher_horizon5_reacher-cs285-v0_31-10-2022_22-23-36\", \"date\": \"2022-10-31T22:23:36\"}, {\"Train_EnvstepsSoFar\": 23316.0, \"Train_AverageReturn\": -330.4680480957031, \"exp\": \"hw4_q4_reacher_horizon5_reacher-cs285-v0_31-10-2022_22-23-36\", \"date\": \"2022-10-31T22:23:36\"}, {\"Train_EnvstepsSoFar\": 24120.0, \"Train_AverageReturn\": -261.7040100097656, \"exp\": \"hw4_q4_reacher_horizon5_reacher-cs285-v0_31-10-2022_22-23-36\", \"date\": \"2022-10-31T22:23:36\"}, {\"Train_EnvstepsSoFar\": 24924.0, \"Train_AverageReturn\": -306.1669921875, \"exp\": \"hw4_q4_reacher_horizon5_reacher-cs285-v0_31-10-2022_22-23-36\", \"date\": \"2022-10-31T22:23:36\"}, {\"Train_EnvstepsSoFar\": 25728.0, \"Train_AverageReturn\": -277.77569580078125, \"exp\": \"hw4_q4_reacher_horizon5_reacher-cs285-v0_31-10-2022_22-23-36\", \"date\": \"2022-10-31T22:23:36\"}, {\"Train_EnvstepsSoFar\": 26532.0, \"Train_AverageReturn\": -261.138427734375, \"exp\": \"hw4_q4_reacher_horizon5_reacher-cs285-v0_31-10-2022_22-23-36\", \"date\": \"2022-10-31T22:23:36\"}, {\"Train_EnvstepsSoFar\": 27336.0, \"Train_AverageReturn\": -267.505615234375, \"exp\": \"hw4_q4_reacher_horizon5_reacher-cs285-v0_31-10-2022_22-23-36\", \"date\": \"2022-10-31T22:23:36\"}, {\"Train_EnvstepsSoFar\": 28140.0, \"Train_AverageReturn\": -272.97271728515625, \"exp\": \"hw4_q4_reacher_horizon5_reacher-cs285-v0_31-10-2022_22-23-36\", \"date\": \"2022-10-31T22:23:36\"}, {\"Train_EnvstepsSoFar\": 28944.0, \"Train_AverageReturn\": -270.577880859375, \"exp\": \"hw4_q4_reacher_horizon5_reacher-cs285-v0_31-10-2022_22-23-36\", \"date\": \"2022-10-31T22:23:36\"}, {\"Train_EnvstepsSoFar\": 29748.0, \"Train_AverageReturn\": -277.63507080078125, \"exp\": \"hw4_q4_reacher_horizon5_reacher-cs285-v0_31-10-2022_22-23-36\", \"date\": \"2022-10-31T22:23:36\"}, {\"Train_EnvstepsSoFar\": 30552.0, \"Train_AverageReturn\": -275.9195251464844, \"exp\": \"hw4_q4_reacher_horizon5_reacher-cs285-v0_31-10-2022_22-23-36\", \"date\": \"2022-10-31T22:23:36\"}, {\"Train_EnvstepsSoFar\": 31356.0, \"Train_AverageReturn\": -281.8150939941406, \"exp\": \"hw4_q4_reacher_horizon5_reacher-cs285-v0_31-10-2022_22-23-36\", \"date\": \"2022-10-31T22:23:36\"}, {\"Train_EnvstepsSoFar\": 20100.0, \"Train_AverageReturn\": -1887.0548095703125, \"exp\": \"hw4_q4_reacher_horizon15_reacher-cs285-v0_31-10-2022_22-29-46\", \"date\": \"2022-10-31T22:29:46\"}, {\"Train_EnvstepsSoFar\": 20904.0, \"Train_AverageReturn\": -422.7082824707031, \"exp\": \"hw4_q4_reacher_horizon15_reacher-cs285-v0_31-10-2022_22-29-46\", \"date\": \"2022-10-31T22:29:46\"}, {\"Train_EnvstepsSoFar\": 21708.0, \"Train_AverageReturn\": -316.0177001953125, \"exp\": \"hw4_q4_reacher_horizon15_reacher-cs285-v0_31-10-2022_22-29-46\", \"date\": \"2022-10-31T22:29:46\"}, {\"Train_EnvstepsSoFar\": 22512.0, \"Train_AverageReturn\": -290.261474609375, \"exp\": \"hw4_q4_reacher_horizon15_reacher-cs285-v0_31-10-2022_22-29-46\", \"date\": \"2022-10-31T22:29:46\"}, {\"Train_EnvstepsSoFar\": 23316.0, \"Train_AverageReturn\": -290.8168029785156, \"exp\": \"hw4_q4_reacher_horizon15_reacher-cs285-v0_31-10-2022_22-29-46\", \"date\": \"2022-10-31T22:29:46\"}, {\"Train_EnvstepsSoFar\": 24120.0, \"Train_AverageReturn\": -292.7557067871094, \"exp\": \"hw4_q4_reacher_horizon15_reacher-cs285-v0_31-10-2022_22-29-46\", \"date\": \"2022-10-31T22:29:46\"}, {\"Train_EnvstepsSoFar\": 24924.0, \"Train_AverageReturn\": -288.50897216796875, \"exp\": \"hw4_q4_reacher_horizon15_reacher-cs285-v0_31-10-2022_22-29-46\", \"date\": \"2022-10-31T22:29:46\"}, {\"Train_EnvstepsSoFar\": 25728.0, \"Train_AverageReturn\": -297.6462707519531, \"exp\": \"hw4_q4_reacher_horizon15_reacher-cs285-v0_31-10-2022_22-29-46\", \"date\": \"2022-10-31T22:29:46\"}, {\"Train_EnvstepsSoFar\": 26532.0, \"Train_AverageReturn\": -303.8690185546875, \"exp\": \"hw4_q4_reacher_horizon15_reacher-cs285-v0_31-10-2022_22-29-46\", \"date\": \"2022-10-31T22:29:46\"}, {\"Train_EnvstepsSoFar\": 27336.0, \"Train_AverageReturn\": -282.38677978515625, \"exp\": \"hw4_q4_reacher_horizon15_reacher-cs285-v0_31-10-2022_22-29-46\", \"date\": \"2022-10-31T22:29:46\"}, {\"Train_EnvstepsSoFar\": 28140.0, \"Train_AverageReturn\": -301.6378479003906, \"exp\": \"hw4_q4_reacher_horizon15_reacher-cs285-v0_31-10-2022_22-29-46\", \"date\": \"2022-10-31T22:29:46\"}, {\"Train_EnvstepsSoFar\": 28944.0, \"Train_AverageReturn\": -306.19305419921875, \"exp\": \"hw4_q4_reacher_horizon15_reacher-cs285-v0_31-10-2022_22-29-46\", \"date\": \"2022-10-31T22:29:46\"}, {\"Train_EnvstepsSoFar\": 29748.0, \"Train_AverageReturn\": -313.4127502441406, \"exp\": \"hw4_q4_reacher_horizon15_reacher-cs285-v0_31-10-2022_22-29-46\", \"date\": \"2022-10-31T22:29:46\"}, {\"Train_EnvstepsSoFar\": 30552.0, \"Train_AverageReturn\": -296.815185546875, \"exp\": \"hw4_q4_reacher_horizon15_reacher-cs285-v0_31-10-2022_22-29-46\", \"date\": \"2022-10-31T22:29:46\"}, {\"Train_EnvstepsSoFar\": 31356.0, \"Train_AverageReturn\": -299.44677734375, \"exp\": \"hw4_q4_reacher_horizon15_reacher-cs285-v0_31-10-2022_22-29-46\", \"date\": \"2022-10-31T22:29:46\"}, {\"Train_EnvstepsSoFar\": 20100.0, \"Train_AverageReturn\": -1887.0548095703125, \"exp\": \"hw4_q4_reacher_horizon30_reacher-cs285-v0_31-10-2022_22-43-26\", \"date\": \"2022-10-31T22:43:26\"}, {\"Train_EnvstepsSoFar\": 20904.0, \"Train_AverageReturn\": -486.60986328125, \"exp\": \"hw4_q4_reacher_horizon30_reacher-cs285-v0_31-10-2022_22-43-26\", \"date\": \"2022-10-31T22:43:26\"}, {\"Train_EnvstepsSoFar\": 21708.0, \"Train_AverageReturn\": -374.8550720214844, \"exp\": \"hw4_q4_reacher_horizon30_reacher-cs285-v0_31-10-2022_22-43-26\", \"date\": \"2022-10-31T22:43:26\"}, {\"Train_EnvstepsSoFar\": 22512.0, \"Train_AverageReturn\": -370.8449401855469, \"exp\": \"hw4_q4_reacher_horizon30_reacher-cs285-v0_31-10-2022_22-43-26\", \"date\": \"2022-10-31T22:43:26\"}, {\"Train_EnvstepsSoFar\": 23316.0, \"Train_AverageReturn\": -352.00537109375, \"exp\": \"hw4_q4_reacher_horizon30_reacher-cs285-v0_31-10-2022_22-43-26\", \"date\": \"2022-10-31T22:43:26\"}, {\"Train_EnvstepsSoFar\": 24120.0, \"Train_AverageReturn\": -364.90814208984375, \"exp\": \"hw4_q4_reacher_horizon30_reacher-cs285-v0_31-10-2022_22-43-26\", \"date\": \"2022-10-31T22:43:26\"}, {\"Train_EnvstepsSoFar\": 24924.0, \"Train_AverageReturn\": -376.362548828125, \"exp\": \"hw4_q4_reacher_horizon30_reacher-cs285-v0_31-10-2022_22-43-26\", \"date\": \"2022-10-31T22:43:26\"}, {\"Train_EnvstepsSoFar\": 25728.0, \"Train_AverageReturn\": -352.7247619628906, \"exp\": \"hw4_q4_reacher_horizon30_reacher-cs285-v0_31-10-2022_22-43-26\", \"date\": \"2022-10-31T22:43:26\"}, {\"Train_EnvstepsSoFar\": 26532.0, \"Train_AverageReturn\": -338.41229248046875, \"exp\": \"hw4_q4_reacher_horizon30_reacher-cs285-v0_31-10-2022_22-43-26\", \"date\": \"2022-10-31T22:43:26\"}, {\"Train_EnvstepsSoFar\": 27336.0, \"Train_AverageReturn\": -354.0229187011719, \"exp\": \"hw4_q4_reacher_horizon30_reacher-cs285-v0_31-10-2022_22-43-26\", \"date\": \"2022-10-31T22:43:26\"}, {\"Train_EnvstepsSoFar\": 28140.0, \"Train_AverageReturn\": -369.61029052734375, \"exp\": \"hw4_q4_reacher_horizon30_reacher-cs285-v0_31-10-2022_22-43-26\", \"date\": \"2022-10-31T22:43:26\"}, {\"Train_EnvstepsSoFar\": 28944.0, \"Train_AverageReturn\": -350.35748291015625, \"exp\": \"hw4_q4_reacher_horizon30_reacher-cs285-v0_31-10-2022_22-43-26\", \"date\": \"2022-10-31T22:43:26\"}, {\"Train_EnvstepsSoFar\": 29748.0, \"Train_AverageReturn\": -343.455078125, \"exp\": \"hw4_q4_reacher_horizon30_reacher-cs285-v0_31-10-2022_22-43-26\", \"date\": \"2022-10-31T22:43:26\"}, {\"Train_EnvstepsSoFar\": 30552.0, \"Train_AverageReturn\": -335.80914306640625, \"exp\": \"hw4_q4_reacher_horizon30_reacher-cs285-v0_31-10-2022_22-43-26\", \"date\": \"2022-10-31T22:43:26\"}, {\"Train_EnvstepsSoFar\": 31356.0, \"Train_AverageReturn\": -340.0046691894531, \"exp\": \"hw4_q4_reacher_horizon30_reacher-cs285-v0_31-10-2022_22-43-26\", \"date\": \"2022-10-31T22:43:26\"}, {\"Train_EnvstepsSoFar\": 20100.0, \"Train_AverageReturn\": -1887.0548095703125, \"exp\": \"hw4_q4_reacher_numseq100_reacher-cs285-v0_31-10-2022_23-08-24\", \"date\": \"2022-10-31T23:08:24\"}, {\"Train_EnvstepsSoFar\": 20904.0, \"Train_AverageReturn\": -482.8727111816406, \"exp\": \"hw4_q4_reacher_numseq100_reacher-cs285-v0_31-10-2022_23-08-24\", \"date\": \"2022-10-31T23:08:24\"}, {\"Train_EnvstepsSoFar\": 21708.0, \"Train_AverageReturn\": -334.5639343261719, \"exp\": \"hw4_q4_reacher_numseq100_reacher-cs285-v0_31-10-2022_23-08-24\", \"date\": \"2022-10-31T23:08:24\"}, {\"Train_EnvstepsSoFar\": 22512.0, \"Train_AverageReturn\": -303.6585998535156, \"exp\": \"hw4_q4_reacher_numseq100_reacher-cs285-v0_31-10-2022_23-08-24\", \"date\": \"2022-10-31T23:08:24\"}, {\"Train_EnvstepsSoFar\": 23316.0, \"Train_AverageReturn\": -417.27056884765625, \"exp\": \"hw4_q4_reacher_numseq100_reacher-cs285-v0_31-10-2022_23-08-24\", \"date\": \"2022-10-31T23:08:24\"}, {\"Train_EnvstepsSoFar\": 24120.0, \"Train_AverageReturn\": -325.0825500488281, \"exp\": \"hw4_q4_reacher_numseq100_reacher-cs285-v0_31-10-2022_23-08-24\", \"date\": \"2022-10-31T23:08:24\"}, {\"Train_EnvstepsSoFar\": 24924.0, \"Train_AverageReturn\": -305.75146484375, \"exp\": \"hw4_q4_reacher_numseq100_reacher-cs285-v0_31-10-2022_23-08-24\", \"date\": \"2022-10-31T23:08:24\"}, {\"Train_EnvstepsSoFar\": 25728.0, \"Train_AverageReturn\": -354.08819580078125, \"exp\": \"hw4_q4_reacher_numseq100_reacher-cs285-v0_31-10-2022_23-08-24\", \"date\": \"2022-10-31T23:08:24\"}, {\"Train_EnvstepsSoFar\": 26532.0, \"Train_AverageReturn\": -332.906005859375, \"exp\": \"hw4_q4_reacher_numseq100_reacher-cs285-v0_31-10-2022_23-08-24\", \"date\": \"2022-10-31T23:08:24\"}, {\"Train_EnvstepsSoFar\": 27336.0, \"Train_AverageReturn\": -318.5284729003906, \"exp\": \"hw4_q4_reacher_numseq100_reacher-cs285-v0_31-10-2022_23-08-24\", \"date\": \"2022-10-31T23:08:24\"}, {\"Train_EnvstepsSoFar\": 28140.0, \"Train_AverageReturn\": -319.3731689453125, \"exp\": \"hw4_q4_reacher_numseq100_reacher-cs285-v0_31-10-2022_23-08-24\", \"date\": \"2022-10-31T23:08:24\"}, {\"Train_EnvstepsSoFar\": 28944.0, \"Train_AverageReturn\": -335.83587646484375, \"exp\": \"hw4_q4_reacher_numseq100_reacher-cs285-v0_31-10-2022_23-08-24\", \"date\": \"2022-10-31T23:08:24\"}, {\"Train_EnvstepsSoFar\": 29748.0, \"Train_AverageReturn\": -341.12835693359375, \"exp\": \"hw4_q4_reacher_numseq100_reacher-cs285-v0_31-10-2022_23-08-24\", \"date\": \"2022-10-31T23:08:24\"}, {\"Train_EnvstepsSoFar\": 30552.0, \"Train_AverageReturn\": -342.70556640625, \"exp\": \"hw4_q4_reacher_numseq100_reacher-cs285-v0_31-10-2022_23-08-24\", \"date\": \"2022-10-31T23:08:24\"}, {\"Train_EnvstepsSoFar\": 31356.0, \"Train_AverageReturn\": -318.3421630859375, \"exp\": \"hw4_q4_reacher_numseq100_reacher-cs285-v0_31-10-2022_23-08-24\", \"date\": \"2022-10-31T23:08:24\"}, {\"Train_EnvstepsSoFar\": 20100.0, \"Train_AverageReturn\": -1887.0548095703125, \"exp\": \"hw4_q4_reacher_numseq1000_reacher-cs285-v0_31-10-2022_23-16-46\", \"date\": \"2022-10-31T23:16:46\"}, {\"Train_EnvstepsSoFar\": 20904.0, \"Train_AverageReturn\": -458.08502197265625, \"exp\": \"hw4_q4_reacher_numseq1000_reacher-cs285-v0_31-10-2022_23-16-46\", \"date\": \"2022-10-31T23:16:46\"}, {\"Train_EnvstepsSoFar\": 21708.0, \"Train_AverageReturn\": -269.2423095703125, \"exp\": \"hw4_q4_reacher_numseq1000_reacher-cs285-v0_31-10-2022_23-16-46\", \"date\": \"2022-10-31T23:16:46\"}, {\"Train_EnvstepsSoFar\": 22512.0, \"Train_AverageReturn\": -265.2900085449219, \"exp\": \"hw4_q4_reacher_numseq1000_reacher-cs285-v0_31-10-2022_23-16-46\", \"date\": \"2022-10-31T23:16:46\"}, {\"Train_EnvstepsSoFar\": 23316.0, \"Train_AverageReturn\": -265.0345153808594, \"exp\": \"hw4_q4_reacher_numseq1000_reacher-cs285-v0_31-10-2022_23-16-46\", \"date\": \"2022-10-31T23:16:46\"}, {\"Train_EnvstepsSoFar\": 24120.0, \"Train_AverageReturn\": -272.9891357421875, \"exp\": \"hw4_q4_reacher_numseq1000_reacher-cs285-v0_31-10-2022_23-16-46\", \"date\": \"2022-10-31T23:16:46\"}, {\"Train_EnvstepsSoFar\": 24924.0, \"Train_AverageReturn\": -276.161865234375, \"exp\": \"hw4_q4_reacher_numseq1000_reacher-cs285-v0_31-10-2022_23-16-46\", \"date\": \"2022-10-31T23:16:46\"}, {\"Train_EnvstepsSoFar\": 25728.0, \"Train_AverageReturn\": -273.61090087890625, \"exp\": \"hw4_q4_reacher_numseq1000_reacher-cs285-v0_31-10-2022_23-16-46\", \"date\": \"2022-10-31T23:16:46\"}, {\"Train_EnvstepsSoFar\": 26532.0, \"Train_AverageReturn\": -276.89581298828125, \"exp\": \"hw4_q4_reacher_numseq1000_reacher-cs285-v0_31-10-2022_23-16-46\", \"date\": \"2022-10-31T23:16:46\"}, {\"Train_EnvstepsSoFar\": 27336.0, \"Train_AverageReturn\": -269.5791015625, \"exp\": \"hw4_q4_reacher_numseq1000_reacher-cs285-v0_31-10-2022_23-16-46\", \"date\": \"2022-10-31T23:16:46\"}, {\"Train_EnvstepsSoFar\": 28140.0, \"Train_AverageReturn\": -267.67254638671875, \"exp\": \"hw4_q4_reacher_numseq1000_reacher-cs285-v0_31-10-2022_23-16-46\", \"date\": \"2022-10-31T23:16:46\"}, {\"Train_EnvstepsSoFar\": 28944.0, \"Train_AverageReturn\": -263.48101806640625, \"exp\": \"hw4_q4_reacher_numseq1000_reacher-cs285-v0_31-10-2022_23-16-46\", \"date\": \"2022-10-31T23:16:46\"}, {\"Train_EnvstepsSoFar\": 29748.0, \"Train_AverageReturn\": -271.3620910644531, \"exp\": \"hw4_q4_reacher_numseq1000_reacher-cs285-v0_31-10-2022_23-16-46\", \"date\": \"2022-10-31T23:16:46\"}, {\"Train_EnvstepsSoFar\": 30552.0, \"Train_AverageReturn\": -275.6529541015625, \"exp\": \"hw4_q4_reacher_numseq1000_reacher-cs285-v0_31-10-2022_23-16-46\", \"date\": \"2022-10-31T23:16:46\"}, {\"Train_EnvstepsSoFar\": 31356.0, \"Train_AverageReturn\": -276.3374328613281, \"exp\": \"hw4_q4_reacher_numseq1000_reacher-cs285-v0_31-10-2022_23-16-46\", \"date\": \"2022-10-31T23:16:46\"}, {\"Train_EnvstepsSoFar\": 20100.0, \"Train_AverageReturn\": -1887.0548095703125, \"exp\": \"hw4_q4_reacher_ensemble1_reacher-cs285-v0_31-10-2022_23-26-46\", \"date\": \"2022-10-31T23:26:46\"}, {\"Train_EnvstepsSoFar\": 20904.0, \"Train_AverageReturn\": -462.9727783203125, \"exp\": \"hw4_q4_reacher_ensemble1_reacher-cs285-v0_31-10-2022_23-26-46\", \"date\": \"2022-10-31T23:26:46\"}, {\"Train_EnvstepsSoFar\": 21708.0, \"Train_AverageReturn\": -308.44818115234375, \"exp\": \"hw4_q4_reacher_ensemble1_reacher-cs285-v0_31-10-2022_23-26-46\", \"date\": \"2022-10-31T23:26:46\"}, {\"Train_EnvstepsSoFar\": 22512.0, \"Train_AverageReturn\": -285.3240966796875, \"exp\": \"hw4_q4_reacher_ensemble1_reacher-cs285-v0_31-10-2022_23-26-46\", \"date\": \"2022-10-31T23:26:46\"}, {\"Train_EnvstepsSoFar\": 23316.0, \"Train_AverageReturn\": -286.25244140625, \"exp\": \"hw4_q4_reacher_ensemble1_reacher-cs285-v0_31-10-2022_23-26-46\", \"date\": \"2022-10-31T23:26:46\"}, {\"Train_EnvstepsSoFar\": 24120.0, \"Train_AverageReturn\": -294.3235778808594, \"exp\": \"hw4_q4_reacher_ensemble1_reacher-cs285-v0_31-10-2022_23-26-46\", \"date\": \"2022-10-31T23:26:46\"}, {\"Train_EnvstepsSoFar\": 24924.0, \"Train_AverageReturn\": -284.42657470703125, \"exp\": \"hw4_q4_reacher_ensemble1_reacher-cs285-v0_31-10-2022_23-26-46\", \"date\": \"2022-10-31T23:26:46\"}, {\"Train_EnvstepsSoFar\": 25728.0, \"Train_AverageReturn\": -288.2616882324219, \"exp\": \"hw4_q4_reacher_ensemble1_reacher-cs285-v0_31-10-2022_23-26-46\", \"date\": \"2022-10-31T23:26:46\"}, {\"Train_EnvstepsSoFar\": 26532.0, \"Train_AverageReturn\": -292.6785888671875, \"exp\": \"hw4_q4_reacher_ensemble1_reacher-cs285-v0_31-10-2022_23-26-46\", \"date\": \"2022-10-31T23:26:46\"}, {\"Train_EnvstepsSoFar\": 27336.0, \"Train_AverageReturn\": -291.531494140625, \"exp\": \"hw4_q4_reacher_ensemble1_reacher-cs285-v0_31-10-2022_23-26-46\", \"date\": \"2022-10-31T23:26:46\"}, {\"Train_EnvstepsSoFar\": 28140.0, \"Train_AverageReturn\": -297.1798095703125, \"exp\": \"hw4_q4_reacher_ensemble1_reacher-cs285-v0_31-10-2022_23-26-46\", \"date\": \"2022-10-31T23:26:46\"}, {\"Train_EnvstepsSoFar\": 28944.0, \"Train_AverageReturn\": -290.9679870605469, \"exp\": \"hw4_q4_reacher_ensemble1_reacher-cs285-v0_31-10-2022_23-26-46\", \"date\": \"2022-10-31T23:26:46\"}, {\"Train_EnvstepsSoFar\": 29748.0, \"Train_AverageReturn\": -285.6595458984375, \"exp\": \"hw4_q4_reacher_ensemble1_reacher-cs285-v0_31-10-2022_23-26-46\", \"date\": \"2022-10-31T23:26:46\"}, {\"Train_EnvstepsSoFar\": 30552.0, \"Train_AverageReturn\": -278.1269226074219, \"exp\": \"hw4_q4_reacher_ensemble1_reacher-cs285-v0_31-10-2022_23-26-46\", \"date\": \"2022-10-31T23:26:46\"}, {\"Train_EnvstepsSoFar\": 31356.0, \"Train_AverageReturn\": -312.1677551269531, \"exp\": \"hw4_q4_reacher_ensemble1_reacher-cs285-v0_31-10-2022_23-26-46\", \"date\": \"2022-10-31T23:26:46\"}, {\"Train_EnvstepsSoFar\": 20100.0, \"Train_AverageReturn\": -1887.0548095703125, \"exp\": \"hw4_q4_reacher_ensemble3_reacher-cs285-v0_31-10-2022_23-30-47\", \"date\": \"2022-10-31T23:30:47\"}, {\"Train_EnvstepsSoFar\": 20904.0, \"Train_AverageReturn\": -458.08502197265625, \"exp\": \"hw4_q4_reacher_ensemble3_reacher-cs285-v0_31-10-2022_23-30-47\", \"date\": \"2022-10-31T23:30:47\"}, {\"Train_EnvstepsSoFar\": 21708.0, \"Train_AverageReturn\": -269.2423095703125, \"exp\": \"hw4_q4_reacher_ensemble3_reacher-cs285-v0_31-10-2022_23-30-47\", \"date\": \"2022-10-31T23:30:47\"}, {\"Train_EnvstepsSoFar\": 22512.0, \"Train_AverageReturn\": -265.2900085449219, \"exp\": \"hw4_q4_reacher_ensemble3_reacher-cs285-v0_31-10-2022_23-30-47\", \"date\": \"2022-10-31T23:30:47\"}, {\"Train_EnvstepsSoFar\": 23316.0, \"Train_AverageReturn\": -265.0345153808594, \"exp\": \"hw4_q4_reacher_ensemble3_reacher-cs285-v0_31-10-2022_23-30-47\", \"date\": \"2022-10-31T23:30:47\"}, {\"Train_EnvstepsSoFar\": 24120.0, \"Train_AverageReturn\": -272.9891357421875, \"exp\": \"hw4_q4_reacher_ensemble3_reacher-cs285-v0_31-10-2022_23-30-47\", \"date\": \"2022-10-31T23:30:47\"}, {\"Train_EnvstepsSoFar\": 24924.0, \"Train_AverageReturn\": -276.161865234375, \"exp\": \"hw4_q4_reacher_ensemble3_reacher-cs285-v0_31-10-2022_23-30-47\", \"date\": \"2022-10-31T23:30:47\"}, {\"Train_EnvstepsSoFar\": 25728.0, \"Train_AverageReturn\": -273.61090087890625, \"exp\": \"hw4_q4_reacher_ensemble3_reacher-cs285-v0_31-10-2022_23-30-47\", \"date\": \"2022-10-31T23:30:47\"}, {\"Train_EnvstepsSoFar\": 26532.0, \"Train_AverageReturn\": -276.89581298828125, \"exp\": \"hw4_q4_reacher_ensemble3_reacher-cs285-v0_31-10-2022_23-30-47\", \"date\": \"2022-10-31T23:30:47\"}, {\"Train_EnvstepsSoFar\": 27336.0, \"Train_AverageReturn\": -269.5791015625, \"exp\": \"hw4_q4_reacher_ensemble3_reacher-cs285-v0_31-10-2022_23-30-47\", \"date\": \"2022-10-31T23:30:47\"}, {\"Train_EnvstepsSoFar\": 28140.0, \"Train_AverageReturn\": -267.67254638671875, \"exp\": \"hw4_q4_reacher_ensemble3_reacher-cs285-v0_31-10-2022_23-30-47\", \"date\": \"2022-10-31T23:30:47\"}, {\"Train_EnvstepsSoFar\": 28944.0, \"Train_AverageReturn\": -263.48101806640625, \"exp\": \"hw4_q4_reacher_ensemble3_reacher-cs285-v0_31-10-2022_23-30-47\", \"date\": \"2022-10-31T23:30:47\"}, {\"Train_EnvstepsSoFar\": 29748.0, \"Train_AverageReturn\": -271.3620910644531, \"exp\": \"hw4_q4_reacher_ensemble3_reacher-cs285-v0_31-10-2022_23-30-47\", \"date\": \"2022-10-31T23:30:47\"}, {\"Train_EnvstepsSoFar\": 30552.0, \"Train_AverageReturn\": -275.6529541015625, \"exp\": \"hw4_q4_reacher_ensemble3_reacher-cs285-v0_31-10-2022_23-30-47\", \"date\": \"2022-10-31T23:30:47\"}, {\"Train_EnvstepsSoFar\": 31356.0, \"Train_AverageReturn\": -276.3374328613281, \"exp\": \"hw4_q4_reacher_ensemble3_reacher-cs285-v0_31-10-2022_23-30-47\", \"date\": \"2022-10-31T23:30:47\"}, {\"Train_EnvstepsSoFar\": 20100.0, \"Train_AverageReturn\": -1887.0548095703125, \"exp\": \"hw4_q4_reacher_ensemble5_reacher-cs285-v0_31-10-2022_23-40-38\", \"date\": \"2022-10-31T23:40:38\"}, {\"Train_EnvstepsSoFar\": 20904.0, \"Train_AverageReturn\": -430.53643798828125, \"exp\": \"hw4_q4_reacher_ensemble5_reacher-cs285-v0_31-10-2022_23-40-38\", \"date\": \"2022-10-31T23:40:38\"}, {\"Train_EnvstepsSoFar\": 21708.0, \"Train_AverageReturn\": -275.8887939453125, \"exp\": \"hw4_q4_reacher_ensemble5_reacher-cs285-v0_31-10-2022_23-40-38\", \"date\": \"2022-10-31T23:40:38\"}, {\"Train_EnvstepsSoFar\": 22512.0, \"Train_AverageReturn\": -319.6268310546875, \"exp\": \"hw4_q4_reacher_ensemble5_reacher-cs285-v0_31-10-2022_23-40-38\", \"date\": \"2022-10-31T23:40:38\"}, {\"Train_EnvstepsSoFar\": 23316.0, \"Train_AverageReturn\": -267.15460205078125, \"exp\": \"hw4_q4_reacher_ensemble5_reacher-cs285-v0_31-10-2022_23-40-38\", \"date\": \"2022-10-31T23:40:38\"}, {\"Train_EnvstepsSoFar\": 24120.0, \"Train_AverageReturn\": -302.8248291015625, \"exp\": \"hw4_q4_reacher_ensemble5_reacher-cs285-v0_31-10-2022_23-40-38\", \"date\": \"2022-10-31T23:40:38\"}, {\"Train_EnvstepsSoFar\": 24924.0, \"Train_AverageReturn\": -268.22808837890625, \"exp\": \"hw4_q4_reacher_ensemble5_reacher-cs285-v0_31-10-2022_23-40-38\", \"date\": \"2022-10-31T23:40:38\"}, {\"Train_EnvstepsSoFar\": 25728.0, \"Train_AverageReturn\": -275.51934814453125, \"exp\": \"hw4_q4_reacher_ensemble5_reacher-cs285-v0_31-10-2022_23-40-38\", \"date\": \"2022-10-31T23:40:38\"}, {\"Train_EnvstepsSoFar\": 26532.0, \"Train_AverageReturn\": -269.8758544921875, \"exp\": \"hw4_q4_reacher_ensemble5_reacher-cs285-v0_31-10-2022_23-40-38\", \"date\": \"2022-10-31T23:40:38\"}, {\"Train_EnvstepsSoFar\": 27336.0, \"Train_AverageReturn\": -273.71148681640625, \"exp\": \"hw4_q4_reacher_ensemble5_reacher-cs285-v0_31-10-2022_23-40-38\", \"date\": \"2022-10-31T23:40:38\"}, {\"Train_EnvstepsSoFar\": 28140.0, \"Train_AverageReturn\": -268.50006103515625, \"exp\": \"hw4_q4_reacher_ensemble5_reacher-cs285-v0_31-10-2022_23-40-38\", \"date\": \"2022-10-31T23:40:38\"}, {\"Train_EnvstepsSoFar\": 28944.0, \"Train_AverageReturn\": -258.0334777832031, \"exp\": \"hw4_q4_reacher_ensemble5_reacher-cs285-v0_31-10-2022_23-40-38\", \"date\": \"2022-10-31T23:40:38\"}, {\"Train_EnvstepsSoFar\": 29748.0, \"Train_AverageReturn\": -277.27490234375, \"exp\": \"hw4_q4_reacher_ensemble5_reacher-cs285-v0_31-10-2022_23-40-38\", \"date\": \"2022-10-31T23:40:38\"}, {\"Train_EnvstepsSoFar\": 30552.0, \"Train_AverageReturn\": -283.4293212890625, \"exp\": \"hw4_q4_reacher_ensemble5_reacher-cs285-v0_31-10-2022_23-40-38\", \"date\": \"2022-10-31T23:40:38\"}, {\"Train_EnvstepsSoFar\": 31356.0, \"Train_AverageReturn\": -281.3494873046875, \"exp\": \"hw4_q4_reacher_ensemble5_reacher-cs285-v0_31-10-2022_23-40-38\", \"date\": \"2022-10-31T23:40:38\"}]}}, {\"mode\": \"vega-lite\"});\n",
       "</script>"
      ],
      "text/plain": [
       "alt.Chart(...)"
      ]
     },
     "execution_count": 31,
     "metadata": {},
     "output_type": "execute_result"
    }
   ],
   "source": [
    "chart = alt.Chart(df_q4).mark_line().encode(\n",
    "    x=xtag,\n",
    "    y=ytag,\n",
    "    color='exp'\n",
    ")\n",
    "chart = chart.configure_legend(\n",
    "    labelLimit=1000\n",
    ")\n",
    "chart"
   ]
  },
  {
   "cell_type": "markdown",
   "metadata": {},
   "source": [
    "# Q5"
   ]
  },
  {
   "cell_type": "code",
   "execution_count": 40,
   "metadata": {},
   "outputs": [],
   "source": [
    "logdir = '../../data/*q5_*/events*'\n",
    "eventfiles = glob.glob(logdir)\n",
    "xtag = 'Train_EnvstepsSoFar'\n",
    "ytag = 'Train_AverageReturn'\n",
    "df_q5 = make_dataframe(eventfiles, xtag=xtag, ytag=ytag)"
   ]
  },
  {
   "cell_type": "code",
   "execution_count": 41,
   "metadata": {},
   "outputs": [
    {
     "data": {
      "text/html": [
       "\n",
       "<div id=\"altair-viz-e0ccd2392b684639bb0072618d259a06\"></div>\n",
       "<script type=\"text/javascript\">\n",
       "  var VEGA_DEBUG = (typeof VEGA_DEBUG == \"undefined\") ? {} : VEGA_DEBUG;\n",
       "  (function(spec, embedOpt){\n",
       "    let outputDiv = document.currentScript.previousElementSibling;\n",
       "    if (outputDiv.id !== \"altair-viz-e0ccd2392b684639bb0072618d259a06\") {\n",
       "      outputDiv = document.getElementById(\"altair-viz-e0ccd2392b684639bb0072618d259a06\");\n",
       "    }\n",
       "    const paths = {\n",
       "      \"vega\": \"https://cdn.jsdelivr.net/npm//vega@5?noext\",\n",
       "      \"vega-lib\": \"https://cdn.jsdelivr.net/npm//vega-lib?noext\",\n",
       "      \"vega-lite\": \"https://cdn.jsdelivr.net/npm//vega-lite@4.17.0?noext\",\n",
       "      \"vega-embed\": \"https://cdn.jsdelivr.net/npm//vega-embed@6?noext\",\n",
       "    };\n",
       "\n",
       "    function maybeLoadScript(lib, version) {\n",
       "      var key = `${lib.replace(\"-\", \"\")}_version`;\n",
       "      return (VEGA_DEBUG[key] == version) ?\n",
       "        Promise.resolve(paths[lib]) :\n",
       "        new Promise(function(resolve, reject) {\n",
       "          var s = document.createElement('script');\n",
       "          document.getElementsByTagName(\"head\")[0].appendChild(s);\n",
       "          s.async = true;\n",
       "          s.onload = () => {\n",
       "            VEGA_DEBUG[key] = version;\n",
       "            return resolve(paths[lib]);\n",
       "          };\n",
       "          s.onerror = () => reject(`Error loading script: ${paths[lib]}`);\n",
       "          s.src = paths[lib];\n",
       "        });\n",
       "    }\n",
       "\n",
       "    function showError(err) {\n",
       "      outputDiv.innerHTML = `<div class=\"error\" style=\"color:red;\">${err}</div>`;\n",
       "      throw err;\n",
       "    }\n",
       "\n",
       "    function displayChart(vegaEmbed) {\n",
       "      vegaEmbed(outputDiv, spec, embedOpt)\n",
       "        .catch(err => showError(`Javascript Error: ${err.message}<br>This usually means there's a typo in your chart specification. See the javascript console for the full traceback.`));\n",
       "    }\n",
       "\n",
       "    if(typeof define === \"function\" && define.amd) {\n",
       "      requirejs.config({paths});\n",
       "      require([\"vega-embed\"], displayChart, err => showError(`Error loading script: ${err.message}`));\n",
       "    } else {\n",
       "      maybeLoadScript(\"vega\", \"5\")\n",
       "        .then(() => maybeLoadScript(\"vega-lite\", \"4.17.0\"))\n",
       "        .then(() => maybeLoadScript(\"vega-embed\", \"6\"))\n",
       "        .catch(showError)\n",
       "        .then(() => displayChart(vegaEmbed));\n",
       "    }\n",
       "  })({\"config\": {\"view\": {\"continuousWidth\": 400, \"continuousHeight\": 300}, \"legend\": {\"labelLimit\": 1000}}, \"data\": {\"name\": \"data-6f589fd88407044c8cf6df552bc4a1d7\"}, \"mark\": \"line\", \"encoding\": {\"color\": {\"field\": \"exp\", \"type\": \"nominal\"}, \"x\": {\"field\": \"Train_EnvstepsSoFar\", \"type\": \"quantitative\"}, \"y\": {\"field\": \"Train_AverageReturn\", \"type\": \"quantitative\"}}, \"$schema\": \"https://vega.github.io/schema/vega-lite/v4.17.0.json\", \"datasets\": {\"data-6f589fd88407044c8cf6df552bc4a1d7\": [{\"Train_EnvstepsSoFar\": 5010.0, \"Train_AverageReturn\": -2501.908447265625, \"exp\": \"hw4_q5_cheetah_cem_2_cheetah-cs285-v0_31-10-2022_19-22-42\"}, {\"Train_EnvstepsSoFar\": 10020.0, \"Train_AverageReturn\": -201.75897216796875, \"exp\": \"hw4_q5_cheetah_cem_2_cheetah-cs285-v0_31-10-2022_19-22-42\"}, {\"Train_EnvstepsSoFar\": 15030.0, \"Train_AverageReturn\": -91.56783294677734, \"exp\": \"hw4_q5_cheetah_cem_2_cheetah-cs285-v0_31-10-2022_19-22-42\"}, {\"Train_EnvstepsSoFar\": 20040.0, \"Train_AverageReturn\": -479.7510681152344, \"exp\": \"hw4_q5_cheetah_cem_2_cheetah-cs285-v0_31-10-2022_19-22-42\"}, {\"Train_EnvstepsSoFar\": 25050.0, \"Train_AverageReturn\": -156.7800750732422, \"exp\": \"hw4_q5_cheetah_cem_2_cheetah-cs285-v0_31-10-2022_19-22-42\"}, {\"Train_EnvstepsSoFar\": 5010.0, \"Train_AverageReturn\": -2501.908447265625, \"exp\": \"hw4_q5_cheetah_random_cheetah-cs285-v0_31-10-2022_22-42-58\"}, {\"Train_EnvstepsSoFar\": 10020.0, \"Train_AverageReturn\": 111.27655029296875, \"exp\": \"hw4_q5_cheetah_random_cheetah-cs285-v0_31-10-2022_22-42-58\"}, {\"Train_EnvstepsSoFar\": 15030.0, \"Train_AverageReturn\": 249.93789672851562, \"exp\": \"hw4_q5_cheetah_random_cheetah-cs285-v0_31-10-2022_22-42-58\"}, {\"Train_EnvstepsSoFar\": 20040.0, \"Train_AverageReturn\": 250.62728881835938, \"exp\": \"hw4_q5_cheetah_random_cheetah-cs285-v0_31-10-2022_22-42-58\"}, {\"Train_EnvstepsSoFar\": 25050.0, \"Train_AverageReturn\": 257.0720520019531, \"exp\": \"hw4_q5_cheetah_random_cheetah-cs285-v0_31-10-2022_22-42-58\"}, {\"Train_EnvstepsSoFar\": 5010.0, \"Train_AverageReturn\": -2501.908447265625, \"exp\": \"hw4_q5_cheetah_cem_2_cheetah-cs285-v0_31-10-2022_23-05-54\"}, {\"Train_EnvstepsSoFar\": 10020.0, \"Train_AverageReturn\": 125.4377670288086, \"exp\": \"hw4_q5_cheetah_cem_2_cheetah-cs285-v0_31-10-2022_23-05-54\"}, {\"Train_EnvstepsSoFar\": 15030.0, \"Train_AverageReturn\": 226.54934692382812, \"exp\": \"hw4_q5_cheetah_cem_2_cheetah-cs285-v0_31-10-2022_23-05-54\"}, {\"Train_EnvstepsSoFar\": 20040.0, \"Train_AverageReturn\": 330.15155029296875, \"exp\": \"hw4_q5_cheetah_cem_2_cheetah-cs285-v0_31-10-2022_23-05-54\"}, {\"Train_EnvstepsSoFar\": 25050.0, \"Train_AverageReturn\": 446.7445373535156, \"exp\": \"hw4_q5_cheetah_cem_2_cheetah-cs285-v0_31-10-2022_23-05-54\"}, {\"Train_EnvstepsSoFar\": 5010.0, \"Train_AverageReturn\": -2501.908447265625, \"exp\": \"hw4_q5_cheetah_cem_4_cheetah-cs285-v0_31-10-2022_23-50-11\"}, {\"Train_EnvstepsSoFar\": 10020.0, \"Train_AverageReturn\": 216.0582275390625, \"exp\": \"hw4_q5_cheetah_cem_4_cheetah-cs285-v0_31-10-2022_23-50-11\"}, {\"Train_EnvstepsSoFar\": 15030.0, \"Train_AverageReturn\": 461.6617736816406, \"exp\": \"hw4_q5_cheetah_cem_4_cheetah-cs285-v0_31-10-2022_23-50-11\"}, {\"Train_EnvstepsSoFar\": 20040.0, \"Train_AverageReturn\": 724.9532470703125, \"exp\": \"hw4_q5_cheetah_cem_4_cheetah-cs285-v0_31-10-2022_23-50-11\"}, {\"Train_EnvstepsSoFar\": 25050.0, \"Train_AverageReturn\": 894.5476684570312, \"exp\": \"hw4_q5_cheetah_cem_4_cheetah-cs285-v0_31-10-2022_23-50-11\"}]}}, {\"mode\": \"vega-lite\"});\n",
       "</script>"
      ],
      "text/plain": [
       "alt.Chart(...)"
      ]
     },
     "execution_count": 41,
     "metadata": {},
     "output_type": "execute_result"
    }
   ],
   "source": [
    "chart = alt.Chart(df_q5).mark_line().encode(\n",
    "    x=xtag,\n",
    "    y=ytag,\n",
    "    color='exp'\n",
    ")\n",
    "chart = chart.configure_legend(\n",
    "    labelLimit=1000\n",
    ")\n",
    "chart"
   ]
  },
  {
   "cell_type": "code",
   "execution_count": 38,
   "metadata": {},
   "outputs": [],
   "source": [
    "logdir = '../../data/*q5_*/events*'\n",
    "eventfiles = glob.glob(logdir)\n",
    "xtag = 'Train_EnvstepsSoFar'\n",
    "ytag = 'Eval_AverageReturn'\n",
    "df_q5 = make_dataframe(eventfiles, xtag=xtag, ytag=ytag)"
   ]
  },
  {
   "cell_type": "code",
   "execution_count": 39,
   "metadata": {},
   "outputs": [
    {
     "data": {
      "text/html": [
       "\n",
       "<div id=\"altair-viz-239983c8bfca46239af0a23cbe7892ae\"></div>\n",
       "<script type=\"text/javascript\">\n",
       "  var VEGA_DEBUG = (typeof VEGA_DEBUG == \"undefined\") ? {} : VEGA_DEBUG;\n",
       "  (function(spec, embedOpt){\n",
       "    let outputDiv = document.currentScript.previousElementSibling;\n",
       "    if (outputDiv.id !== \"altair-viz-239983c8bfca46239af0a23cbe7892ae\") {\n",
       "      outputDiv = document.getElementById(\"altair-viz-239983c8bfca46239af0a23cbe7892ae\");\n",
       "    }\n",
       "    const paths = {\n",
       "      \"vega\": \"https://cdn.jsdelivr.net/npm//vega@5?noext\",\n",
       "      \"vega-lib\": \"https://cdn.jsdelivr.net/npm//vega-lib?noext\",\n",
       "      \"vega-lite\": \"https://cdn.jsdelivr.net/npm//vega-lite@4.17.0?noext\",\n",
       "      \"vega-embed\": \"https://cdn.jsdelivr.net/npm//vega-embed@6?noext\",\n",
       "    };\n",
       "\n",
       "    function maybeLoadScript(lib, version) {\n",
       "      var key = `${lib.replace(\"-\", \"\")}_version`;\n",
       "      return (VEGA_DEBUG[key] == version) ?\n",
       "        Promise.resolve(paths[lib]) :\n",
       "        new Promise(function(resolve, reject) {\n",
       "          var s = document.createElement('script');\n",
       "          document.getElementsByTagName(\"head\")[0].appendChild(s);\n",
       "          s.async = true;\n",
       "          s.onload = () => {\n",
       "            VEGA_DEBUG[key] = version;\n",
       "            return resolve(paths[lib]);\n",
       "          };\n",
       "          s.onerror = () => reject(`Error loading script: ${paths[lib]}`);\n",
       "          s.src = paths[lib];\n",
       "        });\n",
       "    }\n",
       "\n",
       "    function showError(err) {\n",
       "      outputDiv.innerHTML = `<div class=\"error\" style=\"color:red;\">${err}</div>`;\n",
       "      throw err;\n",
       "    }\n",
       "\n",
       "    function displayChart(vegaEmbed) {\n",
       "      vegaEmbed(outputDiv, spec, embedOpt)\n",
       "        .catch(err => showError(`Javascript Error: ${err.message}<br>This usually means there's a typo in your chart specification. See the javascript console for the full traceback.`));\n",
       "    }\n",
       "\n",
       "    if(typeof define === \"function\" && define.amd) {\n",
       "      requirejs.config({paths});\n",
       "      require([\"vega-embed\"], displayChart, err => showError(`Error loading script: ${err.message}`));\n",
       "    } else {\n",
       "      maybeLoadScript(\"vega\", \"5\")\n",
       "        .then(() => maybeLoadScript(\"vega-lite\", \"4.17.0\"))\n",
       "        .then(() => maybeLoadScript(\"vega-embed\", \"6\"))\n",
       "        .catch(showError)\n",
       "        .then(() => displayChart(vegaEmbed));\n",
       "    }\n",
       "  })({\"config\": {\"view\": {\"continuousWidth\": 400, \"continuousHeight\": 300}, \"legend\": {\"labelLimit\": 1000}}, \"data\": {\"name\": \"data-89b2ca16988d09e0c9d285ce8466d227\"}, \"mark\": \"line\", \"encoding\": {\"color\": {\"field\": \"exp\", \"type\": \"nominal\"}, \"x\": {\"field\": \"Train_EnvstepsSoFar\", \"type\": \"quantitative\"}, \"y\": {\"field\": \"Eval_AverageReturn\", \"type\": \"quantitative\"}}, \"$schema\": \"https://vega.github.io/schema/vega-lite/v4.17.0.json\", \"datasets\": {\"data-89b2ca16988d09e0c9d285ce8466d227\": [{\"Train_EnvstepsSoFar\": 5010.0, \"Eval_AverageReturn\": -38.104251861572266, \"exp\": \"hw4_q5_cheetah_cem_2_cheetah-cs285-v0_31-10-2022_19-22-42\"}, {\"Train_EnvstepsSoFar\": 10020.0, \"Eval_AverageReturn\": -302.1762390136719, \"exp\": \"hw4_q5_cheetah_cem_2_cheetah-cs285-v0_31-10-2022_19-22-42\"}, {\"Train_EnvstepsSoFar\": 15030.0, \"Eval_AverageReturn\": -40.27244186401367, \"exp\": \"hw4_q5_cheetah_cem_2_cheetah-cs285-v0_31-10-2022_19-22-42\"}, {\"Train_EnvstepsSoFar\": 20040.0, \"Eval_AverageReturn\": -7.8762431144714355, \"exp\": \"hw4_q5_cheetah_cem_2_cheetah-cs285-v0_31-10-2022_19-22-42\"}, {\"Train_EnvstepsSoFar\": 25050.0, \"Eval_AverageReturn\": -230.60775756835938, \"exp\": \"hw4_q5_cheetah_cem_2_cheetah-cs285-v0_31-10-2022_19-22-42\"}, {\"Train_EnvstepsSoFar\": 5010.0, \"Eval_AverageReturn\": 100.56256866455078, \"exp\": \"hw4_q5_cheetah_random_cheetah-cs285-v0_31-10-2022_22-42-58\"}, {\"Train_EnvstepsSoFar\": 10020.0, \"Eval_AverageReturn\": 230.87435913085938, \"exp\": \"hw4_q5_cheetah_random_cheetah-cs285-v0_31-10-2022_22-42-58\"}, {\"Train_EnvstepsSoFar\": 15030.0, \"Eval_AverageReturn\": 264.07147216796875, \"exp\": \"hw4_q5_cheetah_random_cheetah-cs285-v0_31-10-2022_22-42-58\"}, {\"Train_EnvstepsSoFar\": 20040.0, \"Eval_AverageReturn\": 285.7351379394531, \"exp\": \"hw4_q5_cheetah_random_cheetah-cs285-v0_31-10-2022_22-42-58\"}, {\"Train_EnvstepsSoFar\": 25050.0, \"Eval_AverageReturn\": 269.27777099609375, \"exp\": \"hw4_q5_cheetah_random_cheetah-cs285-v0_31-10-2022_22-42-58\"}, {\"Train_EnvstepsSoFar\": 5010.0, \"Eval_AverageReturn\": 91.18714904785156, \"exp\": \"hw4_q5_cheetah_cem_2_cheetah-cs285-v0_31-10-2022_23-05-54\"}, {\"Train_EnvstepsSoFar\": 10020.0, \"Eval_AverageReturn\": 245.46490478515625, \"exp\": \"hw4_q5_cheetah_cem_2_cheetah-cs285-v0_31-10-2022_23-05-54\"}, {\"Train_EnvstepsSoFar\": 15030.0, \"Eval_AverageReturn\": 361.060302734375, \"exp\": \"hw4_q5_cheetah_cem_2_cheetah-cs285-v0_31-10-2022_23-05-54\"}, {\"Train_EnvstepsSoFar\": 20040.0, \"Eval_AverageReturn\": 498.61834716796875, \"exp\": \"hw4_q5_cheetah_cem_2_cheetah-cs285-v0_31-10-2022_23-05-54\"}, {\"Train_EnvstepsSoFar\": 25050.0, \"Eval_AverageReturn\": 535.1756591796875, \"exp\": \"hw4_q5_cheetah_cem_2_cheetah-cs285-v0_31-10-2022_23-05-54\"}, {\"Train_EnvstepsSoFar\": 5010.0, \"Eval_AverageReturn\": 213.2918701171875, \"exp\": \"hw4_q5_cheetah_cem_4_cheetah-cs285-v0_31-10-2022_23-50-11\"}, {\"Train_EnvstepsSoFar\": 10020.0, \"Eval_AverageReturn\": 480.7968444824219, \"exp\": \"hw4_q5_cheetah_cem_4_cheetah-cs285-v0_31-10-2022_23-50-11\"}, {\"Train_EnvstepsSoFar\": 15030.0, \"Eval_AverageReturn\": 709.98193359375, \"exp\": \"hw4_q5_cheetah_cem_4_cheetah-cs285-v0_31-10-2022_23-50-11\"}, {\"Train_EnvstepsSoFar\": 20040.0, \"Eval_AverageReturn\": 899.8770751953125, \"exp\": \"hw4_q5_cheetah_cem_4_cheetah-cs285-v0_31-10-2022_23-50-11\"}, {\"Train_EnvstepsSoFar\": 25050.0, \"Eval_AverageReturn\": 901.312255859375, \"exp\": \"hw4_q5_cheetah_cem_4_cheetah-cs285-v0_31-10-2022_23-50-11\"}]}}, {\"mode\": \"vega-lite\"});\n",
       "</script>"
      ],
      "text/plain": [
       "alt.Chart(...)"
      ]
     },
     "execution_count": 39,
     "metadata": {},
     "output_type": "execute_result"
    }
   ],
   "source": [
    "chart = alt.Chart(df_q5).mark_line().encode(\n",
    "    x=xtag,\n",
    "    y=ytag,\n",
    "    color='exp'\n",
    ")\n",
    "chart = chart.configure_legend(\n",
    "    labelLimit=1000\n",
    ")\n",
    "chart"
   ]
  },
  {
   "cell_type": "markdown",
   "metadata": {},
   "source": [
    "# Q6"
   ]
  },
  {
   "cell_type": "code",
   "execution_count": 18,
   "metadata": {},
   "outputs": [
    {
     "ename": "ValueError",
     "evalue": "No objects to concatenate",
     "output_type": "error",
     "traceback": [
      "\u001b[0;31m---------------------------------------------------------------------------\u001b[0m",
      "\u001b[0;31mValueError\u001b[0m                                Traceback (most recent call last)",
      "\u001b[0;32m/tmp/ipykernel_1660/445826555.py\u001b[0m in \u001b[0;36m<module>\u001b[0;34m\u001b[0m\n\u001b[1;32m      3\u001b[0m \u001b[0mxtag\u001b[0m \u001b[0;34m=\u001b[0m \u001b[0;34m'Train_EnvstepsSoFar'\u001b[0m\u001b[0;34m\u001b[0m\u001b[0;34m\u001b[0m\u001b[0m\n\u001b[1;32m      4\u001b[0m \u001b[0mytag\u001b[0m \u001b[0;34m=\u001b[0m \u001b[0;34m'Train_AverageReturn'\u001b[0m\u001b[0;34m\u001b[0m\u001b[0;34m\u001b[0m\u001b[0m\n\u001b[0;32m----> 5\u001b[0;31m \u001b[0mdf_q6\u001b[0m \u001b[0;34m=\u001b[0m \u001b[0mmake_dataframe\u001b[0m\u001b[0;34m(\u001b[0m\u001b[0meventfiles\u001b[0m\u001b[0;34m,\u001b[0m \u001b[0mxtag\u001b[0m\u001b[0;34m=\u001b[0m\u001b[0mxtag\u001b[0m\u001b[0;34m,\u001b[0m \u001b[0mytag\u001b[0m\u001b[0;34m=\u001b[0m\u001b[0mytag\u001b[0m\u001b[0;34m)\u001b[0m\u001b[0;34m\u001b[0m\u001b[0;34m\u001b[0m\u001b[0m\n\u001b[0m",
      "\u001b[0;32m/tmp/ipykernel_1660/2121327128.py\u001b[0m in \u001b[0;36mmake_dataframe\u001b[0;34m(eventfiles, xtag, ytag)\u001b[0m\n\u001b[1;32m     33\u001b[0m         \u001b[0mdfs\u001b[0m\u001b[0;34m.\u001b[0m\u001b[0mappend\u001b[0m\u001b[0;34m(\u001b[0m\u001b[0mlog_df\u001b[0m\u001b[0;34m)\u001b[0m\u001b[0;34m\u001b[0m\u001b[0;34m\u001b[0m\u001b[0m\n\u001b[1;32m     34\u001b[0m \u001b[0;34m\u001b[0m\u001b[0m\n\u001b[0;32m---> 35\u001b[0;31m     \u001b[0;32mreturn\u001b[0m \u001b[0mpd\u001b[0m\u001b[0;34m.\u001b[0m\u001b[0mconcat\u001b[0m\u001b[0;34m(\u001b[0m\u001b[0mdfs\u001b[0m\u001b[0;34m)\u001b[0m\u001b[0;34m\u001b[0m\u001b[0;34m\u001b[0m\u001b[0m\n\u001b[0m",
      "\u001b[0;32m~/anaconda3/envs/cs285/lib/python3.7/site-packages/pandas/util/_decorators.py\u001b[0m in \u001b[0;36mwrapper\u001b[0;34m(*args, **kwargs)\u001b[0m\n\u001b[1;32m    309\u001b[0m                     \u001b[0mstacklevel\u001b[0m\u001b[0;34m=\u001b[0m\u001b[0mstacklevel\u001b[0m\u001b[0;34m,\u001b[0m\u001b[0;34m\u001b[0m\u001b[0;34m\u001b[0m\u001b[0m\n\u001b[1;32m    310\u001b[0m                 )\n\u001b[0;32m--> 311\u001b[0;31m             \u001b[0;32mreturn\u001b[0m \u001b[0mfunc\u001b[0m\u001b[0;34m(\u001b[0m\u001b[0;34m*\u001b[0m\u001b[0margs\u001b[0m\u001b[0;34m,\u001b[0m \u001b[0;34m**\u001b[0m\u001b[0mkwargs\u001b[0m\u001b[0;34m)\u001b[0m\u001b[0;34m\u001b[0m\u001b[0;34m\u001b[0m\u001b[0m\n\u001b[0m\u001b[1;32m    312\u001b[0m \u001b[0;34m\u001b[0m\u001b[0m\n\u001b[1;32m    313\u001b[0m         \u001b[0;32mreturn\u001b[0m \u001b[0mwrapper\u001b[0m\u001b[0;34m\u001b[0m\u001b[0;34m\u001b[0m\u001b[0m\n",
      "\u001b[0;32m~/anaconda3/envs/cs285/lib/python3.7/site-packages/pandas/core/reshape/concat.py\u001b[0m in \u001b[0;36mconcat\u001b[0;34m(objs, axis, join, ignore_index, keys, levels, names, verify_integrity, sort, copy)\u001b[0m\n\u001b[1;32m    302\u001b[0m         \u001b[0mverify_integrity\u001b[0m\u001b[0;34m=\u001b[0m\u001b[0mverify_integrity\u001b[0m\u001b[0;34m,\u001b[0m\u001b[0;34m\u001b[0m\u001b[0;34m\u001b[0m\u001b[0m\n\u001b[1;32m    303\u001b[0m         \u001b[0mcopy\u001b[0m\u001b[0;34m=\u001b[0m\u001b[0mcopy\u001b[0m\u001b[0;34m,\u001b[0m\u001b[0;34m\u001b[0m\u001b[0;34m\u001b[0m\u001b[0m\n\u001b[0;32m--> 304\u001b[0;31m         \u001b[0msort\u001b[0m\u001b[0;34m=\u001b[0m\u001b[0msort\u001b[0m\u001b[0;34m,\u001b[0m\u001b[0;34m\u001b[0m\u001b[0;34m\u001b[0m\u001b[0m\n\u001b[0m\u001b[1;32m    305\u001b[0m     )\n\u001b[1;32m    306\u001b[0m \u001b[0;34m\u001b[0m\u001b[0m\n",
      "\u001b[0;32m~/anaconda3/envs/cs285/lib/python3.7/site-packages/pandas/core/reshape/concat.py\u001b[0m in \u001b[0;36m__init__\u001b[0;34m(self, objs, axis, join, keys, levels, names, ignore_index, verify_integrity, copy, sort)\u001b[0m\n\u001b[1;32m    349\u001b[0m \u001b[0;34m\u001b[0m\u001b[0m\n\u001b[1;32m    350\u001b[0m         \u001b[0;32mif\u001b[0m \u001b[0mlen\u001b[0m\u001b[0;34m(\u001b[0m\u001b[0mobjs\u001b[0m\u001b[0;34m)\u001b[0m \u001b[0;34m==\u001b[0m \u001b[0;36m0\u001b[0m\u001b[0;34m:\u001b[0m\u001b[0;34m\u001b[0m\u001b[0;34m\u001b[0m\u001b[0m\n\u001b[0;32m--> 351\u001b[0;31m             \u001b[0;32mraise\u001b[0m \u001b[0mValueError\u001b[0m\u001b[0;34m(\u001b[0m\u001b[0;34m\"No objects to concatenate\"\u001b[0m\u001b[0;34m)\u001b[0m\u001b[0;34m\u001b[0m\u001b[0;34m\u001b[0m\u001b[0m\n\u001b[0m\u001b[1;32m    352\u001b[0m \u001b[0;34m\u001b[0m\u001b[0m\n\u001b[1;32m    353\u001b[0m         \u001b[0;32mif\u001b[0m \u001b[0mkeys\u001b[0m \u001b[0;32mis\u001b[0m \u001b[0;32mNone\u001b[0m\u001b[0;34m:\u001b[0m\u001b[0;34m\u001b[0m\u001b[0;34m\u001b[0m\u001b[0m\n",
      "\u001b[0;31mValueError\u001b[0m: No objects to concatenate"
     ]
    }
   ],
   "source": [
    "logdir = '../../data/*q6*/events*'\n",
    "eventfiles = glob.glob(logdir)\n",
    "xtag = 'Train_EnvstepsSoFar'\n",
    "ytag = 'Train_AverageReturn'\n",
    "df_q6 = make_dataframe(eventfiles, xtag=xtag, ytag=ytag)"
   ]
  },
  {
   "cell_type": "code",
   "execution_count": null,
   "metadata": {},
   "outputs": [
    {
     "ename": "NameError",
     "evalue": "name 'df_q6' is not defined",
     "output_type": "error",
     "traceback": [
      "\u001b[0;31m---------------------------------------------------------------------------\u001b[0m",
      "\u001b[0;31mNameError\u001b[0m                                 Traceback (most recent call last)",
      "\u001b[0;32m/tmp/ipykernel_530/474811269.py\u001b[0m in \u001b[0;36m<module>\u001b[0;34m\u001b[0m\n\u001b[0;32m----> 1\u001b[0;31m chart = alt.Chart(df_q6).mark_line().encode(\n\u001b[0m\u001b[1;32m      2\u001b[0m     \u001b[0mx\u001b[0m\u001b[0;34m=\u001b[0m\u001b[0mxtag\u001b[0m\u001b[0;34m,\u001b[0m\u001b[0;34m\u001b[0m\u001b[0;34m\u001b[0m\u001b[0m\n\u001b[1;32m      3\u001b[0m     \u001b[0my\u001b[0m\u001b[0;34m=\u001b[0m\u001b[0mytag\u001b[0m\u001b[0;34m,\u001b[0m\u001b[0;34m\u001b[0m\u001b[0;34m\u001b[0m\u001b[0m\n\u001b[1;32m      4\u001b[0m     \u001b[0mcolor\u001b[0m\u001b[0;34m=\u001b[0m\u001b[0;34m'exp'\u001b[0m\u001b[0;34m\u001b[0m\u001b[0;34m\u001b[0m\u001b[0m\n\u001b[1;32m      5\u001b[0m )\n",
      "\u001b[0;31mNameError\u001b[0m: name 'df_q6' is not defined"
     ]
    }
   ],
   "source": [
    "chart = alt.Chart(df_q6).mark_line().encode(\n",
    "    x=xtag,\n",
    "    y=ytag,\n",
    "    color='exp'\n",
    ")\n",
    "chart = chart.configure_legend(\n",
    "    labelLimit=1000\n",
    ")\n",
    "chart"
   ]
  },
  {
   "cell_type": "code",
   "execution_count": null,
   "metadata": {},
   "outputs": [],
   "source": []
  }
 ],
 "metadata": {
  "kernelspec": {
   "display_name": "Python 3.7.13 ('cs285')",
   "language": "python",
   "name": "python3"
  },
  "language_info": {
   "codemirror_mode": {
    "name": "ipython",
    "version": 3
   },
   "file_extension": ".py",
   "mimetype": "text/x-python",
   "name": "python",
   "nbconvert_exporter": "python",
   "pygments_lexer": "ipython3",
   "version": "3.7.13"
  },
  "orig_nbformat": 4,
  "vscode": {
   "interpreter": {
    "hash": "6ee42469ea605de752460272922fb796e1b336359728c21243e8de3b00ea10da"
   }
  }
 },
 "nbformat": 4,
 "nbformat_minor": 2
}
