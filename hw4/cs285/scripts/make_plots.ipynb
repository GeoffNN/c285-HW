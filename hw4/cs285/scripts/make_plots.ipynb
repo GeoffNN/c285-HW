{
 "cells": [
  {
   "cell_type": "code",
   "execution_count": 27,
   "metadata": {},
   "outputs": [],
   "source": [
    "import altair as alt\n",
    "import os\n",
    "import pandas as pd\n",
    "import glob\n",
    "import tensorflow as tf"
   ]
  },
  {
   "cell_type": "code",
   "execution_count": 28,
   "metadata": {},
   "outputs": [
    {
     "data": {
      "text/plain": [
       "DataTransformerRegistry.enable('default')"
      ]
     },
     "execution_count": 28,
     "metadata": {},
     "output_type": "execute_result"
    }
   ],
   "source": [
    "alt.data_transformers.disable_max_rows()\n"
   ]
  },
  {
   "cell_type": "code",
   "execution_count": 29,
   "metadata": {},
   "outputs": [],
   "source": [
    "summary_iterator = tf.compat.v1.train.summary_iterator\n",
    "\n",
    "def get_section_results(file, xtag='Train_EnvstepsSoFar', ytag='Eval_AverageReturn'):\n",
    "    \"\"\"\n",
    "        requires tensorflow==1.12.0\n",
    "    \"\"\"\n",
    "\n",
    "    X = []\n",
    "    Y = []\n",
    "    for e in summary_iterator(file):\n",
    "        for v in e.summary.value:\n",
    "            if v.tag == xtag:\n",
    "                X.append(v.simple_value)\n",
    "            elif v.tag == ytag:\n",
    "                Y.append(v.simple_value)\n",
    "    return X, Y\n",
    "logdir = '../../data/q2_pg_q2*/events*'\n",
    "glob.glob(logdir)\n",
    "\n",
    "\n",
    "def make_dataframe(eventfiles, xtag='Train_EnvstepsSoFar', ytag='Eval_AverageReturn'):\n",
    "    dfs = []\n",
    "    for eventfile in eventfiles:\n",
    "        dirname = os.path.basename(os.path.dirname(eventfile))\n",
    "        X, Y = get_section_results(eventfile, xtag, ytag)\n",
    "        n = len(X)\n",
    "        msg = f\"{(len(X), len(Y))}\"\n",
    "        length = min(len(X), len(Y))\n",
    "        X = X[:length]\n",
    "        Y = Y[:length]\n",
    "        assert len(X) == len(Y), msg\n",
    "        log_df = pd.DataFrame.from_dict({xtag: X, ytag: Y, 'exp': [dirname] * length})\n",
    "        dfs.append(log_df)\n",
    "    \n",
    "    return pd.concat(dfs)"
   ]
  },
  {
   "cell_type": "markdown",
   "metadata": {},
   "source": [
    "# Q1"
   ]
  },
  {
   "cell_type": "code",
   "execution_count": 30,
   "metadata": {},
   "outputs": [],
   "source": [
    "logdir = '../../data/*q1_*/events*'\n"
   ]
  },
  {
   "cell_type": "code",
   "execution_count": 31,
   "metadata": {},
   "outputs": [
    {
     "data": {
      "text/html": [
       "\n",
       "<div id=\"altair-viz-db75312d978e4f9eabf634780333ae44\"></div>\n",
       "<script type=\"text/javascript\">\n",
       "  var VEGA_DEBUG = (typeof VEGA_DEBUG == \"undefined\") ? {} : VEGA_DEBUG;\n",
       "  (function(spec, embedOpt){\n",
       "    let outputDiv = document.currentScript.previousElementSibling;\n",
       "    if (outputDiv.id !== \"altair-viz-db75312d978e4f9eabf634780333ae44\") {\n",
       "      outputDiv = document.getElementById(\"altair-viz-db75312d978e4f9eabf634780333ae44\");\n",
       "    }\n",
       "    const paths = {\n",
       "      \"vega\": \"https://cdn.jsdelivr.net/npm//vega@5?noext\",\n",
       "      \"vega-lib\": \"https://cdn.jsdelivr.net/npm//vega-lib?noext\",\n",
       "      \"vega-lite\": \"https://cdn.jsdelivr.net/npm//vega-lite@4.17.0?noext\",\n",
       "      \"vega-embed\": \"https://cdn.jsdelivr.net/npm//vega-embed@6?noext\",\n",
       "    };\n",
       "\n",
       "    function maybeLoadScript(lib, version) {\n",
       "      var key = `${lib.replace(\"-\", \"\")}_version`;\n",
       "      return (VEGA_DEBUG[key] == version) ?\n",
       "        Promise.resolve(paths[lib]) :\n",
       "        new Promise(function(resolve, reject) {\n",
       "          var s = document.createElement('script');\n",
       "          document.getElementsByTagName(\"head\")[0].appendChild(s);\n",
       "          s.async = true;\n",
       "          s.onload = () => {\n",
       "            VEGA_DEBUG[key] = version;\n",
       "            return resolve(paths[lib]);\n",
       "          };\n",
       "          s.onerror = () => reject(`Error loading script: ${paths[lib]}`);\n",
       "          s.src = paths[lib];\n",
       "        });\n",
       "    }\n",
       "\n",
       "    function showError(err) {\n",
       "      outputDiv.innerHTML = `<div class=\"error\" style=\"color:red;\">${err}</div>`;\n",
       "      throw err;\n",
       "    }\n",
       "\n",
       "    function displayChart(vegaEmbed) {\n",
       "      vegaEmbed(outputDiv, spec, embedOpt)\n",
       "        .catch(err => showError(`Javascript Error: ${err.message}<br>This usually means there's a typo in your chart specification. See the javascript console for the full traceback.`));\n",
       "    }\n",
       "\n",
       "    if(typeof define === \"function\" && define.amd) {\n",
       "      requirejs.config({paths});\n",
       "      require([\"vega-embed\"], displayChart, err => showError(`Error loading script: ${err.message}`));\n",
       "    } else {\n",
       "      maybeLoadScript(\"vega\", \"5\")\n",
       "        .then(() => maybeLoadScript(\"vega-lite\", \"4.17.0\"))\n",
       "        .then(() => maybeLoadScript(\"vega-embed\", \"6\"))\n",
       "        .catch(showError)\n",
       "        .then(() => displayChart(vegaEmbed));\n",
       "    }\n",
       "  })({\"config\": {\"view\": {\"continuousWidth\": 400, \"continuousHeight\": 300}, \"legend\": {\"labelLimit\": 1000}}, \"data\": {\"name\": \"data-d751713988987e9331980363e24189ce\"}, \"mark\": \"line\", \"encoding\": {\"color\": {\"field\": \"exp\", \"type\": \"quantitative\"}, \"x\": {\"field\": \"Train_EnvstepsSoFar\", \"type\": \"quantitative\"}, \"y\": {\"field\": \"Train_AverageReturn\", \"type\": \"quantitative\"}}, \"$schema\": \"https://vega.github.io/schema/vega-lite/v4.17.0.json\", \"datasets\": {\"data-d751713988987e9331980363e24189ce\": []}}, {\"mode\": \"vega-lite\"});\n",
       "</script>"
      ],
      "text/plain": [
       "alt.Chart(...)"
      ]
     },
     "execution_count": 31,
     "metadata": {},
     "output_type": "execute_result"
    }
   ],
   "source": [
    "eventfiles = glob.glob(logdir)\n",
    "xtag = 'Train_EnvstepsSoFar'\n",
    "ytag = 'Train_AverageReturn'\n",
    "df_q1  = make_dataframe(eventfiles, xtag=xtag, ytag=ytag)\n",
    "\n",
    "chart = alt.Chart(df_q1).mark_line().encode(\n",
    "    x=xtag,\n",
    "    y=ytag,\n",
    "    color='exp'\n",
    ")\n",
    "chart = chart.configure_legend(\n",
    "    labelLimit=1000\n",
    ")\n",
    "chart"
   ]
  },
  {
   "cell_type": "markdown",
   "metadata": {},
   "source": [
    "# Q2"
   ]
  },
  {
   "cell_type": "code",
   "execution_count": 32,
   "metadata": {},
   "outputs": [],
   "source": [
    "logdir = '../../data/*q2_*/events*'"
   ]
  },
  {
   "cell_type": "code",
   "execution_count": 33,
   "metadata": {},
   "outputs": [],
   "source": [
    "eventfiles = glob.glob(logdir)\n",
    "xtag = 'Train_EnvstepsSoFar'\n",
    "ytag = 'Train_AverageReturn'\n",
    "df_q2  = make_dataframe(eventfiles, xtag=xtag, ytag=ytag)"
   ]
  },
  {
   "cell_type": "markdown",
   "metadata": {},
   "source": [
    "# Q3"
   ]
  },
  {
   "cell_type": "code",
   "execution_count": 34,
   "metadata": {},
   "outputs": [],
   "source": [
    "logdir = '../../data/*q3_*/events*'"
   ]
  },
  {
   "cell_type": "code",
   "execution_count": 35,
   "metadata": {},
   "outputs": [
    {
     "data": {
      "text/html": [
       "\n",
       "<div id=\"altair-viz-3692c62c232a4e43817e5d47edddfb21\"></div>\n",
       "<script type=\"text/javascript\">\n",
       "  var VEGA_DEBUG = (typeof VEGA_DEBUG == \"undefined\") ? {} : VEGA_DEBUG;\n",
       "  (function(spec, embedOpt){\n",
       "    let outputDiv = document.currentScript.previousElementSibling;\n",
       "    if (outputDiv.id !== \"altair-viz-3692c62c232a4e43817e5d47edddfb21\") {\n",
       "      outputDiv = document.getElementById(\"altair-viz-3692c62c232a4e43817e5d47edddfb21\");\n",
       "    }\n",
       "    const paths = {\n",
       "      \"vega\": \"https://cdn.jsdelivr.net/npm//vega@5?noext\",\n",
       "      \"vega-lib\": \"https://cdn.jsdelivr.net/npm//vega-lib?noext\",\n",
       "      \"vega-lite\": \"https://cdn.jsdelivr.net/npm//vega-lite@4.17.0?noext\",\n",
       "      \"vega-embed\": \"https://cdn.jsdelivr.net/npm//vega-embed@6?noext\",\n",
       "    };\n",
       "\n",
       "    function maybeLoadScript(lib, version) {\n",
       "      var key = `${lib.replace(\"-\", \"\")}_version`;\n",
       "      return (VEGA_DEBUG[key] == version) ?\n",
       "        Promise.resolve(paths[lib]) :\n",
       "        new Promise(function(resolve, reject) {\n",
       "          var s = document.createElement('script');\n",
       "          document.getElementsByTagName(\"head\")[0].appendChild(s);\n",
       "          s.async = true;\n",
       "          s.onload = () => {\n",
       "            VEGA_DEBUG[key] = version;\n",
       "            return resolve(paths[lib]);\n",
       "          };\n",
       "          s.onerror = () => reject(`Error loading script: ${paths[lib]}`);\n",
       "          s.src = paths[lib];\n",
       "        });\n",
       "    }\n",
       "\n",
       "    function showError(err) {\n",
       "      outputDiv.innerHTML = `<div class=\"error\" style=\"color:red;\">${err}</div>`;\n",
       "      throw err;\n",
       "    }\n",
       "\n",
       "    function displayChart(vegaEmbed) {\n",
       "      vegaEmbed(outputDiv, spec, embedOpt)\n",
       "        .catch(err => showError(`Javascript Error: ${err.message}<br>This usually means there's a typo in your chart specification. See the javascript console for the full traceback.`));\n",
       "    }\n",
       "\n",
       "    if(typeof define === \"function\" && define.amd) {\n",
       "      requirejs.config({paths});\n",
       "      require([\"vega-embed\"], displayChart, err => showError(`Error loading script: ${err.message}`));\n",
       "    } else {\n",
       "      maybeLoadScript(\"vega\", \"5\")\n",
       "        .then(() => maybeLoadScript(\"vega-lite\", \"4.17.0\"))\n",
       "        .then(() => maybeLoadScript(\"vega-embed\", \"6\"))\n",
       "        .catch(showError)\n",
       "        .then(() => displayChart(vegaEmbed));\n",
       "    }\n",
       "  })({\"config\": {\"view\": {\"continuousWidth\": 400, \"continuousHeight\": 300}, \"legend\": {\"labelLimit\": 1000}}, \"data\": {\"name\": \"data-cc7b880da61c908ac3a78ff67e5e1226\"}, \"mark\": \"line\", \"encoding\": {\"color\": {\"field\": \"exp\", \"type\": \"nominal\"}, \"x\": {\"field\": \"Train_EnvstepsSoFar\", \"type\": \"quantitative\"}, \"y\": {\"field\": \"Train_AverageReturn\", \"type\": \"quantitative\"}}, \"$schema\": \"https://vega.github.io/schema/vega-lite/v4.17.0.json\", \"datasets\": {\"data-cc7b880da61c908ac3a78ff67e5e1226\": [{\"Train_EnvstepsSoFar\": 5050.0, \"Train_AverageReturn\": -163.6405487060547, \"exp\": \"hw4_q3_obstacles_obstacles-cs285-v0_31-10-2022_14-56-23\"}, {\"Train_EnvstepsSoFar\": 6050.0, \"Train_AverageReturn\": -35.63453674316406, \"exp\": \"hw4_q3_obstacles_obstacles-cs285-v0_31-10-2022_14-56-23\"}, {\"Train_EnvstepsSoFar\": 7069.0, \"Train_AverageReturn\": -48.32094955444336, \"exp\": \"hw4_q3_obstacles_obstacles-cs285-v0_31-10-2022_14-56-23\"}, {\"Train_EnvstepsSoFar\": 8084.0, \"Train_AverageReturn\": -34.81528091430664, \"exp\": \"hw4_q3_obstacles_obstacles-cs285-v0_31-10-2022_14-56-23\"}, {\"Train_EnvstepsSoFar\": 9089.0, \"Train_AverageReturn\": -32.964073181152344, \"exp\": \"hw4_q3_obstacles_obstacles-cs285-v0_31-10-2022_14-56-23\"}, {\"Train_EnvstepsSoFar\": 10093.0, \"Train_AverageReturn\": -31.081205368041992, \"exp\": \"hw4_q3_obstacles_obstacles-cs285-v0_31-10-2022_14-56-23\"}, {\"Train_EnvstepsSoFar\": 11095.0, \"Train_AverageReturn\": -42.595027923583984, \"exp\": \"hw4_q3_obstacles_obstacles-cs285-v0_31-10-2022_14-56-23\"}, {\"Train_EnvstepsSoFar\": 12140.0, \"Train_AverageReturn\": -32.19314193725586, \"exp\": \"hw4_q3_obstacles_obstacles-cs285-v0_31-10-2022_14-56-23\"}, {\"Train_EnvstepsSoFar\": 13166.0, \"Train_AverageReturn\": -45.78806686401367, \"exp\": \"hw4_q3_obstacles_obstacles-cs285-v0_31-10-2022_14-56-23\"}, {\"Train_EnvstepsSoFar\": 14173.0, \"Train_AverageReturn\": -35.600215911865234, \"exp\": \"hw4_q3_obstacles_obstacles-cs285-v0_31-10-2022_14-56-23\"}, {\"Train_EnvstepsSoFar\": 15218.0, \"Train_AverageReturn\": -43.01374816894531, \"exp\": \"hw4_q3_obstacles_obstacles-cs285-v0_31-10-2022_14-56-23\"}, {\"Train_EnvstepsSoFar\": 16259.0, \"Train_AverageReturn\": -41.377044677734375, \"exp\": \"hw4_q3_obstacles_obstacles-cs285-v0_31-10-2022_14-56-23\"}, {\"Train_EnvstepsSoFar\": 5025.0, \"Train_AverageReturn\": -1860.1959228515625, \"exp\": \"hw4_q3_reacher_reacher-cs285-v0_31-10-2022_15-06-57\"}]}}, {\"mode\": \"vega-lite\"});\n",
       "</script>"
      ],
      "text/plain": [
       "alt.Chart(...)"
      ]
     },
     "execution_count": 35,
     "metadata": {},
     "output_type": "execute_result"
    }
   ],
   "source": [
    "eventfiles = glob.glob(logdir)\n",
    "xtag = 'Train_EnvstepsSoFar'\n",
    "ytag = 'Train_AverageReturn'\n",
    "df_q1  = make_dataframe(eventfiles, xtag=xtag, ytag=ytag)\n",
    "\n",
    "chart = alt.Chart(df_q1).mark_line().encode(\n",
    "    x=xtag,\n",
    "    y=ytag,\n",
    "    color='exp'\n",
    ")\n",
    "chart = chart.configure_legend(\n",
    "    labelLimit=1000\n",
    ")\n",
    "chart"
   ]
  },
  {
   "cell_type": "markdown",
   "metadata": {},
   "source": [
    "# Q4"
   ]
  },
  {
   "cell_type": "code",
   "execution_count": 36,
   "metadata": {},
   "outputs": [],
   "source": [
    "logdir = '../../data/*q4_*/events*'\n",
    "eventfiles = glob.glob(logdir)\n",
    "xtag = 'Train_EnvstepsSoFar'\n",
    "ytag = 'Train_AverageReturn'\n",
    "df_q4  = make_dataframe(eventfiles, xtag=xtag, ytag=ytag)"
   ]
  },
  {
   "cell_type": "code",
   "execution_count": 37,
   "metadata": {},
   "outputs": [
    {
     "data": {
      "text/html": [
       "\n",
       "<div id=\"altair-viz-7c4233dd98f646a499cfd3c9315552ca\"></div>\n",
       "<script type=\"text/javascript\">\n",
       "  var VEGA_DEBUG = (typeof VEGA_DEBUG == \"undefined\") ? {} : VEGA_DEBUG;\n",
       "  (function(spec, embedOpt){\n",
       "    let outputDiv = document.currentScript.previousElementSibling;\n",
       "    if (outputDiv.id !== \"altair-viz-7c4233dd98f646a499cfd3c9315552ca\") {\n",
       "      outputDiv = document.getElementById(\"altair-viz-7c4233dd98f646a499cfd3c9315552ca\");\n",
       "    }\n",
       "    const paths = {\n",
       "      \"vega\": \"https://cdn.jsdelivr.net/npm//vega@5?noext\",\n",
       "      \"vega-lib\": \"https://cdn.jsdelivr.net/npm//vega-lib?noext\",\n",
       "      \"vega-lite\": \"https://cdn.jsdelivr.net/npm//vega-lite@4.17.0?noext\",\n",
       "      \"vega-embed\": \"https://cdn.jsdelivr.net/npm//vega-embed@6?noext\",\n",
       "    };\n",
       "\n",
       "    function maybeLoadScript(lib, version) {\n",
       "      var key = `${lib.replace(\"-\", \"\")}_version`;\n",
       "      return (VEGA_DEBUG[key] == version) ?\n",
       "        Promise.resolve(paths[lib]) :\n",
       "        new Promise(function(resolve, reject) {\n",
       "          var s = document.createElement('script');\n",
       "          document.getElementsByTagName(\"head\")[0].appendChild(s);\n",
       "          s.async = true;\n",
       "          s.onload = () => {\n",
       "            VEGA_DEBUG[key] = version;\n",
       "            return resolve(paths[lib]);\n",
       "          };\n",
       "          s.onerror = () => reject(`Error loading script: ${paths[lib]}`);\n",
       "          s.src = paths[lib];\n",
       "        });\n",
       "    }\n",
       "\n",
       "    function showError(err) {\n",
       "      outputDiv.innerHTML = `<div class=\"error\" style=\"color:red;\">${err}</div>`;\n",
       "      throw err;\n",
       "    }\n",
       "\n",
       "    function displayChart(vegaEmbed) {\n",
       "      vegaEmbed(outputDiv, spec, embedOpt)\n",
       "        .catch(err => showError(`Javascript Error: ${err.message}<br>This usually means there's a typo in your chart specification. See the javascript console for the full traceback.`));\n",
       "    }\n",
       "\n",
       "    if(typeof define === \"function\" && define.amd) {\n",
       "      requirejs.config({paths});\n",
       "      require([\"vega-embed\"], displayChart, err => showError(`Error loading script: ${err.message}`));\n",
       "    } else {\n",
       "      maybeLoadScript(\"vega\", \"5\")\n",
       "        .then(() => maybeLoadScript(\"vega-lite\", \"4.17.0\"))\n",
       "        .then(() => maybeLoadScript(\"vega-embed\", \"6\"))\n",
       "        .catch(showError)\n",
       "        .then(() => displayChart(vegaEmbed));\n",
       "    }\n",
       "  })({\"config\": {\"view\": {\"continuousWidth\": 400, \"continuousHeight\": 300}, \"legend\": {\"labelLimit\": 1000}}, \"data\": {\"name\": \"data-1a96c377634f402b76e10f0bb8457de4\"}, \"mark\": \"line\", \"encoding\": {\"color\": {\"field\": \"exp\", \"type\": \"nominal\"}, \"x\": {\"field\": \"Train_EnvstepsSoFar\", \"type\": \"quantitative\"}, \"y\": {\"field\": \"Train_AverageReturn\", \"type\": \"quantitative\"}}, \"$schema\": \"https://vega.github.io/schema/vega-lite/v4.17.0.json\", \"datasets\": {\"data-1a96c377634f402b76e10f0bb8457de4\": [{\"Train_EnvstepsSoFar\": 20100.0, \"Train_AverageReturn\": -1887.0548095703125, \"exp\": \"hw4_q4_reacher_horizon15_reacher-cs285-v0_31-10-2022_15-02-55\"}, {\"Train_EnvstepsSoFar\": 20904.0, \"Train_AverageReturn\": -974.5568237304688, \"exp\": \"hw4_q4_reacher_horizon15_reacher-cs285-v0_31-10-2022_15-02-55\"}, {\"Train_EnvstepsSoFar\": 21708.0, \"Train_AverageReturn\": -983.9910278320312, \"exp\": \"hw4_q4_reacher_horizon15_reacher-cs285-v0_31-10-2022_15-02-55\"}, {\"Train_EnvstepsSoFar\": 22512.0, \"Train_AverageReturn\": -1555.9493408203125, \"exp\": \"hw4_q4_reacher_horizon15_reacher-cs285-v0_31-10-2022_15-02-55\"}, {\"Train_EnvstepsSoFar\": 20100.0, \"Train_AverageReturn\": -1887.0548095703125, \"exp\": \"hw4_q4_reacher_horizon5_reacher-cs285-v0_31-10-2022_14-54-39\"}, {\"Train_EnvstepsSoFar\": 20904.0, \"Train_AverageReturn\": -1022.177734375, \"exp\": \"hw4_q4_reacher_horizon5_reacher-cs285-v0_31-10-2022_14-54-39\"}, {\"Train_EnvstepsSoFar\": 21708.0, \"Train_AverageReturn\": -1247.481689453125, \"exp\": \"hw4_q4_reacher_horizon5_reacher-cs285-v0_31-10-2022_14-54-39\"}, {\"Train_EnvstepsSoFar\": 22512.0, \"Train_AverageReturn\": -1004.247802734375, \"exp\": \"hw4_q4_reacher_horizon5_reacher-cs285-v0_31-10-2022_14-54-39\"}, {\"Train_EnvstepsSoFar\": 23316.0, \"Train_AverageReturn\": -985.570556640625, \"exp\": \"hw4_q4_reacher_horizon5_reacher-cs285-v0_31-10-2022_14-54-39\"}, {\"Train_EnvstepsSoFar\": 24120.0, \"Train_AverageReturn\": -1537.967529296875, \"exp\": \"hw4_q4_reacher_horizon5_reacher-cs285-v0_31-10-2022_14-54-39\"}, {\"Train_EnvstepsSoFar\": 24924.0, \"Train_AverageReturn\": -1303.9815673828125, \"exp\": \"hw4_q4_reacher_horizon5_reacher-cs285-v0_31-10-2022_14-54-39\"}, {\"Train_EnvstepsSoFar\": 25728.0, \"Train_AverageReturn\": -814.6158447265625, \"exp\": \"hw4_q4_reacher_horizon5_reacher-cs285-v0_31-10-2022_14-54-39\"}, {\"Train_EnvstepsSoFar\": 26532.0, \"Train_AverageReturn\": -917.0781860351562, \"exp\": \"hw4_q4_reacher_horizon5_reacher-cs285-v0_31-10-2022_14-54-39\"}, {\"Train_EnvstepsSoFar\": 27336.0, \"Train_AverageReturn\": -856.3035278320312, \"exp\": \"hw4_q4_reacher_horizon5_reacher-cs285-v0_31-10-2022_14-54-39\"}, {\"Train_EnvstepsSoFar\": 28140.0, \"Train_AverageReturn\": -1335.0045166015625, \"exp\": \"hw4_q4_reacher_horizon5_reacher-cs285-v0_31-10-2022_14-54-39\"}, {\"Train_EnvstepsSoFar\": 28944.0, \"Train_AverageReturn\": -1477.4501953125, \"exp\": \"hw4_q4_reacher_horizon5_reacher-cs285-v0_31-10-2022_14-54-39\"}, {\"Train_EnvstepsSoFar\": 29748.0, \"Train_AverageReturn\": -962.9818115234375, \"exp\": \"hw4_q4_reacher_horizon5_reacher-cs285-v0_31-10-2022_14-54-39\"}, {\"Train_EnvstepsSoFar\": 30552.0, \"Train_AverageReturn\": -1064.677978515625, \"exp\": \"hw4_q4_reacher_horizon5_reacher-cs285-v0_31-10-2022_14-54-39\"}, {\"Train_EnvstepsSoFar\": 31356.0, \"Train_AverageReturn\": -895.176025390625, \"exp\": \"hw4_q4_reacher_horizon5_reacher-cs285-v0_31-10-2022_14-54-39\"}]}}, {\"mode\": \"vega-lite\"});\n",
       "</script>"
      ],
      "text/plain": [
       "alt.Chart(...)"
      ]
     },
     "execution_count": 37,
     "metadata": {},
     "output_type": "execute_result"
    }
   ],
   "source": [
    "\n",
    "chart = alt.Chart(df_q4).mark_line().encode(\n",
    "    x=xtag,\n",
    "    y=ytag,\n",
    "    color='exp'\n",
    ")\n",
    "chart = chart.configure_legend(\n",
    "    labelLimit=1000\n",
    ")\n",
    "chart"
   ]
  },
  {
   "cell_type": "markdown",
   "metadata": {},
   "source": [
    "# Q5"
   ]
  },
  {
   "cell_type": "code",
   "execution_count": 38,
   "metadata": {},
   "outputs": [],
   "source": [
    "logdir = '../../data/*q5_*/events*'\n",
    "eventfiles = glob.glob(logdir)\n",
    "xtag = 'Train_EnvstepsSoFar'\n",
    "ytag = 'Train_AverageReturn'\n",
    "df_q5 = make_dataframe(eventfiles, xtag=xtag, ytag=ytag)"
   ]
  },
  {
   "cell_type": "code",
   "execution_count": 39,
   "metadata": {},
   "outputs": [
    {
     "data": {
      "text/html": [
       "\n",
       "<div id=\"altair-viz-7e3161ac81dd4ea6a49797e107035794\"></div>\n",
       "<script type=\"text/javascript\">\n",
       "  var VEGA_DEBUG = (typeof VEGA_DEBUG == \"undefined\") ? {} : VEGA_DEBUG;\n",
       "  (function(spec, embedOpt){\n",
       "    let outputDiv = document.currentScript.previousElementSibling;\n",
       "    if (outputDiv.id !== \"altair-viz-7e3161ac81dd4ea6a49797e107035794\") {\n",
       "      outputDiv = document.getElementById(\"altair-viz-7e3161ac81dd4ea6a49797e107035794\");\n",
       "    }\n",
       "    const paths = {\n",
       "      \"vega\": \"https://cdn.jsdelivr.net/npm//vega@5?noext\",\n",
       "      \"vega-lib\": \"https://cdn.jsdelivr.net/npm//vega-lib?noext\",\n",
       "      \"vega-lite\": \"https://cdn.jsdelivr.net/npm//vega-lite@4.17.0?noext\",\n",
       "      \"vega-embed\": \"https://cdn.jsdelivr.net/npm//vega-embed@6?noext\",\n",
       "    };\n",
       "\n",
       "    function maybeLoadScript(lib, version) {\n",
       "      var key = `${lib.replace(\"-\", \"\")}_version`;\n",
       "      return (VEGA_DEBUG[key] == version) ?\n",
       "        Promise.resolve(paths[lib]) :\n",
       "        new Promise(function(resolve, reject) {\n",
       "          var s = document.createElement('script');\n",
       "          document.getElementsByTagName(\"head\")[0].appendChild(s);\n",
       "          s.async = true;\n",
       "          s.onload = () => {\n",
       "            VEGA_DEBUG[key] = version;\n",
       "            return resolve(paths[lib]);\n",
       "          };\n",
       "          s.onerror = () => reject(`Error loading script: ${paths[lib]}`);\n",
       "          s.src = paths[lib];\n",
       "        });\n",
       "    }\n",
       "\n",
       "    function showError(err) {\n",
       "      outputDiv.innerHTML = `<div class=\"error\" style=\"color:red;\">${err}</div>`;\n",
       "      throw err;\n",
       "    }\n",
       "\n",
       "    function displayChart(vegaEmbed) {\n",
       "      vegaEmbed(outputDiv, spec, embedOpt)\n",
       "        .catch(err => showError(`Javascript Error: ${err.message}<br>This usually means there's a typo in your chart specification. See the javascript console for the full traceback.`));\n",
       "    }\n",
       "\n",
       "    if(typeof define === \"function\" && define.amd) {\n",
       "      requirejs.config({paths});\n",
       "      require([\"vega-embed\"], displayChart, err => showError(`Error loading script: ${err.message}`));\n",
       "    } else {\n",
       "      maybeLoadScript(\"vega\", \"5\")\n",
       "        .then(() => maybeLoadScript(\"vega-lite\", \"4.17.0\"))\n",
       "        .then(() => maybeLoadScript(\"vega-embed\", \"6\"))\n",
       "        .catch(showError)\n",
       "        .then(() => displayChart(vegaEmbed));\n",
       "    }\n",
       "  })({\"config\": {\"view\": {\"continuousWidth\": 400, \"continuousHeight\": 300}, \"legend\": {\"labelLimit\": 1000}}, \"data\": {\"name\": \"data-d751713988987e9331980363e24189ce\"}, \"mark\": \"line\", \"encoding\": {\"color\": {\"field\": \"exp\", \"type\": \"quantitative\"}, \"x\": {\"field\": \"Train_EnvstepsSoFar\", \"type\": \"quantitative\"}, \"y\": {\"field\": \"Train_AverageReturn\", \"type\": \"quantitative\"}}, \"$schema\": \"https://vega.github.io/schema/vega-lite/v4.17.0.json\", \"datasets\": {\"data-d751713988987e9331980363e24189ce\": []}}, {\"mode\": \"vega-lite\"});\n",
       "</script>"
      ],
      "text/plain": [
       "alt.Chart(...)"
      ]
     },
     "execution_count": 39,
     "metadata": {},
     "output_type": "execute_result"
    }
   ],
   "source": [
    "chart = alt.Chart(df_q5).mark_line().encode(\n",
    "    x=xtag,\n",
    "    y=ytag,\n",
    "    color='exp'\n",
    ")\n",
    "chart = chart.configure_legend(\n",
    "    labelLimit=1000\n",
    ")\n",
    "chart"
   ]
  },
  {
   "cell_type": "markdown",
   "metadata": {},
   "source": [
    "# Q6"
   ]
  },
  {
   "cell_type": "code",
   "execution_count": 40,
   "metadata": {},
   "outputs": [
    {
     "ename": "ValueError",
     "evalue": "No objects to concatenate",
     "output_type": "error",
     "traceback": [
      "\u001b[0;31m---------------------------------------------------------------------------\u001b[0m",
      "\u001b[0;31mValueError\u001b[0m                                Traceback (most recent call last)",
      "\u001b[0;32m/tmp/ipykernel_530/445826555.py\u001b[0m in \u001b[0;36m<module>\u001b[0;34m\u001b[0m\n\u001b[1;32m      3\u001b[0m \u001b[0mxtag\u001b[0m \u001b[0;34m=\u001b[0m \u001b[0;34m'Train_EnvstepsSoFar'\u001b[0m\u001b[0;34m\u001b[0m\u001b[0;34m\u001b[0m\u001b[0m\n\u001b[1;32m      4\u001b[0m \u001b[0mytag\u001b[0m \u001b[0;34m=\u001b[0m \u001b[0;34m'Train_AverageReturn'\u001b[0m\u001b[0;34m\u001b[0m\u001b[0;34m\u001b[0m\u001b[0m\n\u001b[0;32m----> 5\u001b[0;31m \u001b[0mdf_q6\u001b[0m \u001b[0;34m=\u001b[0m \u001b[0mmake_dataframe\u001b[0m\u001b[0;34m(\u001b[0m\u001b[0meventfiles\u001b[0m\u001b[0;34m,\u001b[0m \u001b[0mxtag\u001b[0m\u001b[0;34m=\u001b[0m\u001b[0mxtag\u001b[0m\u001b[0;34m,\u001b[0m \u001b[0mytag\u001b[0m\u001b[0;34m=\u001b[0m\u001b[0mytag\u001b[0m\u001b[0;34m)\u001b[0m\u001b[0;34m\u001b[0m\u001b[0;34m\u001b[0m\u001b[0m\n\u001b[0m",
      "\u001b[0;32m/tmp/ipykernel_530/2121327128.py\u001b[0m in \u001b[0;36mmake_dataframe\u001b[0;34m(eventfiles, xtag, ytag)\u001b[0m\n\u001b[1;32m     33\u001b[0m         \u001b[0mdfs\u001b[0m\u001b[0;34m.\u001b[0m\u001b[0mappend\u001b[0m\u001b[0;34m(\u001b[0m\u001b[0mlog_df\u001b[0m\u001b[0;34m)\u001b[0m\u001b[0;34m\u001b[0m\u001b[0;34m\u001b[0m\u001b[0m\n\u001b[1;32m     34\u001b[0m \u001b[0;34m\u001b[0m\u001b[0m\n\u001b[0;32m---> 35\u001b[0;31m     \u001b[0;32mreturn\u001b[0m \u001b[0mpd\u001b[0m\u001b[0;34m.\u001b[0m\u001b[0mconcat\u001b[0m\u001b[0;34m(\u001b[0m\u001b[0mdfs\u001b[0m\u001b[0;34m)\u001b[0m\u001b[0;34m\u001b[0m\u001b[0;34m\u001b[0m\u001b[0m\n\u001b[0m",
      "\u001b[0;32m~/anaconda3/envs/cs285/lib/python3.7/site-packages/pandas/util/_decorators.py\u001b[0m in \u001b[0;36mwrapper\u001b[0;34m(*args, **kwargs)\u001b[0m\n\u001b[1;32m    309\u001b[0m                     \u001b[0mstacklevel\u001b[0m\u001b[0;34m=\u001b[0m\u001b[0mstacklevel\u001b[0m\u001b[0;34m,\u001b[0m\u001b[0;34m\u001b[0m\u001b[0;34m\u001b[0m\u001b[0m\n\u001b[1;32m    310\u001b[0m                 )\n\u001b[0;32m--> 311\u001b[0;31m             \u001b[0;32mreturn\u001b[0m \u001b[0mfunc\u001b[0m\u001b[0;34m(\u001b[0m\u001b[0;34m*\u001b[0m\u001b[0margs\u001b[0m\u001b[0;34m,\u001b[0m \u001b[0;34m**\u001b[0m\u001b[0mkwargs\u001b[0m\u001b[0;34m)\u001b[0m\u001b[0;34m\u001b[0m\u001b[0;34m\u001b[0m\u001b[0m\n\u001b[0m\u001b[1;32m    312\u001b[0m \u001b[0;34m\u001b[0m\u001b[0m\n\u001b[1;32m    313\u001b[0m         \u001b[0;32mreturn\u001b[0m \u001b[0mwrapper\u001b[0m\u001b[0;34m\u001b[0m\u001b[0;34m\u001b[0m\u001b[0m\n",
      "\u001b[0;32m~/anaconda3/envs/cs285/lib/python3.7/site-packages/pandas/core/reshape/concat.py\u001b[0m in \u001b[0;36mconcat\u001b[0;34m(objs, axis, join, ignore_index, keys, levels, names, verify_integrity, sort, copy)\u001b[0m\n\u001b[1;32m    302\u001b[0m         \u001b[0mverify_integrity\u001b[0m\u001b[0;34m=\u001b[0m\u001b[0mverify_integrity\u001b[0m\u001b[0;34m,\u001b[0m\u001b[0;34m\u001b[0m\u001b[0;34m\u001b[0m\u001b[0m\n\u001b[1;32m    303\u001b[0m         \u001b[0mcopy\u001b[0m\u001b[0;34m=\u001b[0m\u001b[0mcopy\u001b[0m\u001b[0;34m,\u001b[0m\u001b[0;34m\u001b[0m\u001b[0;34m\u001b[0m\u001b[0m\n\u001b[0;32m--> 304\u001b[0;31m         \u001b[0msort\u001b[0m\u001b[0;34m=\u001b[0m\u001b[0msort\u001b[0m\u001b[0;34m,\u001b[0m\u001b[0;34m\u001b[0m\u001b[0;34m\u001b[0m\u001b[0m\n\u001b[0m\u001b[1;32m    305\u001b[0m     )\n\u001b[1;32m    306\u001b[0m \u001b[0;34m\u001b[0m\u001b[0m\n",
      "\u001b[0;32m~/anaconda3/envs/cs285/lib/python3.7/site-packages/pandas/core/reshape/concat.py\u001b[0m in \u001b[0;36m__init__\u001b[0;34m(self, objs, axis, join, keys, levels, names, ignore_index, verify_integrity, copy, sort)\u001b[0m\n\u001b[1;32m    349\u001b[0m \u001b[0;34m\u001b[0m\u001b[0m\n\u001b[1;32m    350\u001b[0m         \u001b[0;32mif\u001b[0m \u001b[0mlen\u001b[0m\u001b[0;34m(\u001b[0m\u001b[0mobjs\u001b[0m\u001b[0;34m)\u001b[0m \u001b[0;34m==\u001b[0m \u001b[0;36m0\u001b[0m\u001b[0;34m:\u001b[0m\u001b[0;34m\u001b[0m\u001b[0;34m\u001b[0m\u001b[0m\n\u001b[0;32m--> 351\u001b[0;31m             \u001b[0;32mraise\u001b[0m \u001b[0mValueError\u001b[0m\u001b[0;34m(\u001b[0m\u001b[0;34m\"No objects to concatenate\"\u001b[0m\u001b[0;34m)\u001b[0m\u001b[0;34m\u001b[0m\u001b[0;34m\u001b[0m\u001b[0m\n\u001b[0m\u001b[1;32m    352\u001b[0m \u001b[0;34m\u001b[0m\u001b[0m\n\u001b[1;32m    353\u001b[0m         \u001b[0;32mif\u001b[0m \u001b[0mkeys\u001b[0m \u001b[0;32mis\u001b[0m \u001b[0;32mNone\u001b[0m\u001b[0;34m:\u001b[0m\u001b[0;34m\u001b[0m\u001b[0;34m\u001b[0m\u001b[0m\n",
      "\u001b[0;31mValueError\u001b[0m: No objects to concatenate"
     ]
    }
   ],
   "source": [
    "logdir = '../../data/*q6*/events*'\n",
    "eventfiles = glob.glob(logdir)\n",
    "xtag = 'Train_EnvstepsSoFar'\n",
    "ytag = 'Train_AverageReturn'\n",
    "df_q6 = make_dataframe(eventfiles, xtag=xtag, ytag=ytag)"
   ]
  },
  {
   "cell_type": "code",
   "execution_count": null,
   "metadata": {},
   "outputs": [
    {
     "ename": "NameError",
     "evalue": "name 'df_q6' is not defined",
     "output_type": "error",
     "traceback": [
      "\u001b[0;31m---------------------------------------------------------------------------\u001b[0m",
      "\u001b[0;31mNameError\u001b[0m                                 Traceback (most recent call last)",
      "\u001b[0;32m/tmp/ipykernel_530/474811269.py\u001b[0m in \u001b[0;36m<module>\u001b[0;34m\u001b[0m\n\u001b[0;32m----> 1\u001b[0;31m chart = alt.Chart(df_q6).mark_line().encode(\n\u001b[0m\u001b[1;32m      2\u001b[0m     \u001b[0mx\u001b[0m\u001b[0;34m=\u001b[0m\u001b[0mxtag\u001b[0m\u001b[0;34m,\u001b[0m\u001b[0;34m\u001b[0m\u001b[0;34m\u001b[0m\u001b[0m\n\u001b[1;32m      3\u001b[0m     \u001b[0my\u001b[0m\u001b[0;34m=\u001b[0m\u001b[0mytag\u001b[0m\u001b[0;34m,\u001b[0m\u001b[0;34m\u001b[0m\u001b[0;34m\u001b[0m\u001b[0m\n\u001b[1;32m      4\u001b[0m     \u001b[0mcolor\u001b[0m\u001b[0;34m=\u001b[0m\u001b[0;34m'exp'\u001b[0m\u001b[0;34m\u001b[0m\u001b[0;34m\u001b[0m\u001b[0m\n\u001b[1;32m      5\u001b[0m )\n",
      "\u001b[0;31mNameError\u001b[0m: name 'df_q6' is not defined"
     ]
    }
   ],
   "source": [
    "chart = alt.Chart(df_q6).mark_line().encode(\n",
    "    x=xtag,\n",
    "    y=ytag,\n",
    "    color='exp'\n",
    ")\n",
    "chart = chart.configure_legend(\n",
    "    labelLimit=1000\n",
    ")\n",
    "chart"
   ]
  },
  {
   "cell_type": "code",
   "execution_count": null,
   "metadata": {},
   "outputs": [],
   "source": []
  }
 ],
 "metadata": {
  "kernelspec": {
   "display_name": "Python 3.7.13 ('cs285')",
   "language": "python",
   "name": "python3"
  },
  "language_info": {
   "codemirror_mode": {
    "name": "ipython",
    "version": 3
   },
   "file_extension": ".py",
   "mimetype": "text/x-python",
   "name": "python",
   "nbconvert_exporter": "python",
   "pygments_lexer": "ipython3",
   "version": "3.7.13"
  },
  "orig_nbformat": 4,
  "vscode": {
   "interpreter": {
    "hash": "6ee42469ea605de752460272922fb796e1b336359728c21243e8de3b00ea10da"
   }
  }
 },
 "nbformat": 4,
 "nbformat_minor": 2
}
